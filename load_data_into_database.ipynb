{
 "cells": [
  {
   "cell_type": "code",
   "execution_count": 1,
   "id": "8ac73d3e",
   "metadata": {},
   "outputs": [],
   "source": [
    "import pandas as pd\n",
    "from sqlalchemy import create_engine\n",
    "import os"
   ]
  },
  {
   "cell_type": "code",
   "execution_count": 2,
   "id": "08644496",
   "metadata": {},
   "outputs": [],
   "source": [
    "# --- Database Connection Details (Update with your credentials) ---\n",
    "DB_USER = \"mysqluser\"\n",
    "DB_PASSWORD = \"hbmHq7015$mysqluser\"\n",
    "DB_HOST = \"hetzner\"\n",
    "DB_PORT = \"3306\"\n",
    "DB_NAME = \"data_jobs\""
   ]
  },
  {
   "cell_type": "markdown",
   "id": "98a80f88",
   "metadata": {},
   "source": [
    "Create database engine"
   ]
  },
  {
   "cell_type": "code",
   "execution_count": 3,
   "id": "e99dd3d1",
   "metadata": {},
   "outputs": [],
   "source": [
    "def get_db_engine():\n",
    "    \"\"\"Creates and returns a SQLAlchemy database engine.\"\"\"\n",
    "    connection_string = f\"mysql+mysqlconnector://{DB_USER}:{DB_PASSWORD}@{DB_HOST}:{DB_PORT}/{DB_NAME}\"\n",
    "    try:\n",
    "        engine = create_engine(connection_string)\n",
    "        # Test connection\n",
    "        with engine.connect() as connection:\n",
    "            print(f\"Successfully connected to the '{DB_NAME}' database.\")\n",
    "        return engine\n",
    "    except Exception as e:\n",
    "        print(f\"Error connecting to the database: {e}\")\n",
    "        print(\"Please ensure your database server is running and credentials are correct.\")\n",
    "        return None"
   ]
  },
  {
   "cell_type": "code",
   "execution_count": null,
   "id": "f1f15c5c",
   "metadata": {},
   "outputs": [],
   "source": [
    "# os.chdir('..')"
   ]
  },
  {
   "cell_type": "code",
   "execution_count": 4,
   "id": "fde5bfef",
   "metadata": {},
   "outputs": [],
   "source": [
    "os.chdir('./csv')\n",
    "files = os.listdir()"
   ]
  },
  {
   "cell_type": "markdown",
   "id": "56ddc3d7",
   "metadata": {},
   "source": [
    "Move the `job_postings.csv` to the end of the list"
   ]
  },
  {
   "cell_type": "code",
   "execution_count": 5,
   "id": "4785f512",
   "metadata": {},
   "outputs": [
    {
     "data": {
      "text/plain": [
       "['job_schedules.csv',\n",
       " 'companies.csv',\n",
       " 'job_titles.csv',\n",
       " 'job_via.csv',\n",
       " 'locations.csv',\n",
       " 'countries.csv',\n",
       " 'skills.csv',\n",
       " 'job_postings.csv']"
      ]
     },
     "execution_count": 5,
     "metadata": {},
     "output_type": "execute_result"
    }
   ],
   "source": [
    "files.remove('job_postings.csv')\n",
    "files.append('job_postings.csv')\n",
    "files"
   ]
  },
  {
   "cell_type": "code",
   "execution_count": 6,
   "id": "d26dda4c",
   "metadata": {},
   "outputs": [
    {
     "data": {
      "text/plain": [
       "['job_schedules',\n",
       " 'companies',\n",
       " 'job_titles',\n",
       " 'job_via',\n",
       " 'locations',\n",
       " 'countries',\n",
       " 'skills',\n",
       " 'job_postings']"
      ]
     },
     "execution_count": 6,
     "metadata": {},
     "output_type": "execute_result"
    }
   ],
   "source": [
    "tables = [i[:-4] for i in files]\n",
    "tables"
   ]
  },
  {
   "cell_type": "code",
   "execution_count": null,
   "id": "2505648f",
   "metadata": {},
   "outputs": [],
   "source": [
    "# for f in tables:\n",
    "#     print(f)\n",
    "#     print(pd.read_csv(f'{f}.csv').head(2))\n",
    "#     print('\\n\\n')"
   ]
  },
  {
   "cell_type": "markdown",
   "id": "dc4bab30",
   "metadata": {},
   "source": [
    "Load data into tables"
   ]
  },
  {
   "cell_type": "code",
   "execution_count": 7,
   "id": "207ba719",
   "metadata": {},
   "outputs": [],
   "source": [
    "def load_table(engine, table_name, csv_file):\n",
    "    \"\"\"Loads data from a CSV file into a database table.\"\"\"\n",
    "    if not os.path.exists(csv_file):\n",
    "        print(f\"Error: CSV file not found at '{csv_file}'. Skipping table '{table_name}'.\")\n",
    "        return\n",
    "\n",
    "    try:\n",
    "        df = pd.read_csv(csv_file)\n",
    "        # Rename columns to match the database schema\n",
    "        # if column_map:\n",
    "        #     df.rename(columns=column_map, inplace=True)\n",
    "\n",
    "        print(f\"Loading data into '{table_name}' table...\")\n",
    "        df.to_sql(table_name, con=engine, if_exists='append', index=False)\n",
    "        print(f\"Successfully loaded {len(df):,} rows into '{table_name}'.\\n\\n\")\n",
    "    except Exception as e:\n",
    "        print(f\"Error loading data into '{table_name}': {e}\\n\\n\")"
   ]
  },
  {
   "cell_type": "code",
   "execution_count": 8,
   "id": "ced3755b",
   "metadata": {},
   "outputs": [
    {
     "name": "stdout",
     "output_type": "stream",
     "text": [
      "Successfully connected to the 'data_jobs' database.\n"
     ]
    }
   ],
   "source": [
    "engine = get_db_engine()"
   ]
  },
  {
   "cell_type": "code",
   "execution_count": 9,
   "id": "48be6f53",
   "metadata": {},
   "outputs": [
    {
     "name": "stdout",
     "output_type": "stream",
     "text": [
      "Loading data into 'job_schedules' table...\n",
      "Successfully loaded 7 rows into 'job_schedules'.\n",
      "\n",
      "\n",
      "Loading data into 'companies' table...\n",
      "Successfully loaded 9,134 rows into 'companies'.\n",
      "\n",
      "\n",
      "Loading data into 'job_titles' table...\n",
      "Successfully loaded 10 rows into 'job_titles'.\n",
      "\n",
      "\n",
      "Loading data into 'job_via' table...\n",
      "Successfully loaded 321 rows into 'job_via'.\n",
      "\n",
      "\n",
      "Loading data into 'locations' table...\n",
      "Successfully loaded 2,574 rows into 'locations'.\n",
      "\n",
      "\n",
      "Loading data into 'countries' table...\n",
      "Successfully loaded 112 rows into 'countries'.\n",
      "\n",
      "\n",
      "Loading data into 'skills' table...\n",
      "Successfully loaded 221 rows into 'skills'.\n",
      "\n",
      "\n"
     ]
    }
   ],
   "source": [
    "for table_name, csv_file in zip(tables[:-1], files[:-1]):\n",
    "    load_table(engine, table_name, csv_file)"
   ]
  },
  {
   "cell_type": "markdown",
   "id": "a3281aec",
   "metadata": {},
   "source": [
    "Finally, load the data into the `job_postings` table."
   ]
  },
  {
   "cell_type": "code",
   "execution_count": null,
   "id": "6f3821d3",
   "metadata": {},
   "outputs": [
    {
     "name": "stdout",
     "output_type": "stream",
     "text": [
      "Loading data into 'job_postings' table...\n"
     ]
    }
   ],
   "source": [
    "# load_table(engine, 'job_postings', 'job_postings.csv')"
   ]
  }
 ],
 "metadata": {
  "kernelspec": {
   "display_name": "venv",
   "language": "python",
   "name": "python3"
  },
  "language_info": {
   "codemirror_mode": {
    "name": "ipython",
    "version": 3
   },
   "file_extension": ".py",
   "mimetype": "text/x-python",
   "name": "python",
   "nbconvert_exporter": "python",
   "pygments_lexer": "ipython3",
   "version": "3.13.5"
  }
 },
 "nbformat": 4,
 "nbformat_minor": 5
}
