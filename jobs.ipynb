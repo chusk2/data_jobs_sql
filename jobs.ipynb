{
 "cells": [
  {
   "cell_type": "code",
   "execution_count": 93,
   "id": "fea3f7d9-00af-43d1-99b3-4e435b46c527",
   "metadata": {},
   "outputs": [],
   "source": [
    "import pandas as pd"
   ]
  },
  {
   "cell_type": "code",
   "execution_count": 94,
   "id": "0a047cf7-aaf9-446f-a325-678db91c56ca",
   "metadata": {},
   "outputs": [],
   "source": [
    "df = pd.read_excel('data_jobs_salary_all.xlsx')"
   ]
  },
  {
   "cell_type": "code",
   "execution_count": 95,
   "id": "0a508937-8b9b-4b8a-bf2f-dedfbd0b77fc",
   "metadata": {},
   "outputs": [
    {
     "data": {
      "text/html": [
       "<div>\n",
       "<style scoped>\n",
       "    .dataframe tbody tr th:only-of-type {\n",
       "        vertical-align: middle;\n",
       "    }\n",
       "\n",
       "    .dataframe tbody tr th {\n",
       "        vertical-align: top;\n",
       "    }\n",
       "\n",
       "    .dataframe thead th {\n",
       "        text-align: right;\n",
       "    }\n",
       "</style>\n",
       "<table border=\"1\" class=\"dataframe\">\n",
       "  <thead>\n",
       "    <tr style=\"text-align: right;\">\n",
       "      <th></th>\n",
       "      <th>job_title_short</th>\n",
       "      <th>job_title</th>\n",
       "      <th>job_location</th>\n",
       "      <th>job_via</th>\n",
       "      <th>job_schedule_type</th>\n",
       "      <th>job_work_from_home</th>\n",
       "      <th>search_location</th>\n",
       "      <th>job_posted_date</th>\n",
       "      <th>job_no_degree_mention</th>\n",
       "      <th>job_health_insurance</th>\n",
       "      <th>job_country</th>\n",
       "      <th>salary_rate</th>\n",
       "      <th>salary_year_avg</th>\n",
       "      <th>salary_hour_avg</th>\n",
       "      <th>company_name</th>\n",
       "      <th>job_skills</th>\n",
       "    </tr>\n",
       "  </thead>\n",
       "  <tbody>\n",
       "    <tr>\n",
       "      <th>0</th>\n",
       "      <td>Senior Data Scientist</td>\n",
       "      <td>Senior Data Scientist Data and Analytics Perfo...</td>\n",
       "      <td>Bennington, NE</td>\n",
       "      <td>via ZipRecruiter</td>\n",
       "      <td>Full-time</td>\n",
       "      <td>False</td>\n",
       "      <td>Sudan</td>\n",
       "      <td>2023-04-24 09:51:15</td>\n",
       "      <td>False</td>\n",
       "      <td>True</td>\n",
       "      <td>Sudan</td>\n",
       "      <td>year</td>\n",
       "      <td>128050.0</td>\n",
       "      <td>NaN</td>\n",
       "      <td>Cox Communications</td>\n",
       "      <td>['sql', 'python', 'aws', 'pyspark', 'tableau',...</td>\n",
       "    </tr>\n",
       "    <tr>\n",
       "      <th>1</th>\n",
       "      <td>Data Engineer</td>\n",
       "      <td>Data Engineer - MA</td>\n",
       "      <td>Mesa, AZ</td>\n",
       "      <td>via Indeed</td>\n",
       "      <td>Full-time</td>\n",
       "      <td>False</td>\n",
       "      <td>Georgia</td>\n",
       "      <td>2023-03-13 12:51:23</td>\n",
       "      <td>True</td>\n",
       "      <td>True</td>\n",
       "      <td>United States</td>\n",
       "      <td>year</td>\n",
       "      <td>140000.0</td>\n",
       "      <td>NaN</td>\n",
       "      <td>Worldgate LLC</td>\n",
       "      <td>['sql', 'nosql', 'java', 'python', 'kafka', 's...</td>\n",
       "    </tr>\n",
       "    <tr>\n",
       "      <th>2</th>\n",
       "      <td>Senior Data Analyst</td>\n",
       "      <td>Supervisory Information Technology Specialist ...</td>\n",
       "      <td>Alexandria, VA</td>\n",
       "      <td>via ZipRecruiter</td>\n",
       "      <td>Full-time</td>\n",
       "      <td>False</td>\n",
       "      <td>New York, United States</td>\n",
       "      <td>2023-07-05 07:03:38</td>\n",
       "      <td>True</td>\n",
       "      <td>False</td>\n",
       "      <td>United States</td>\n",
       "      <td>year</td>\n",
       "      <td>156000.0</td>\n",
       "      <td>NaN</td>\n",
       "      <td>National Technical Information Service</td>\n",
       "      <td>NaN</td>\n",
       "    </tr>\n",
       "    <tr>\n",
       "      <th>3</th>\n",
       "      <td>Machine Learning Engineer</td>\n",
       "      <td>Machine Learning Research Scientist</td>\n",
       "      <td>Pittsburgh, PA</td>\n",
       "      <td>via Ai-Jobs.net</td>\n",
       "      <td>Full-time</td>\n",
       "      <td>False</td>\n",
       "      <td>Illinois, United States</td>\n",
       "      <td>2023-04-13 16:05:41</td>\n",
       "      <td>False</td>\n",
       "      <td>True</td>\n",
       "      <td>United States</td>\n",
       "      <td>year</td>\n",
       "      <td>140000.0</td>\n",
       "      <td>NaN</td>\n",
       "      <td>Bosch Group</td>\n",
       "      <td>['pytorch', 'tensorflow']</td>\n",
       "    </tr>\n",
       "    <tr>\n",
       "      <th>4</th>\n",
       "      <td>Data Scientist</td>\n",
       "      <td>Data Scientist, AWS</td>\n",
       "      <td>Irving, TX</td>\n",
       "      <td>via Snagajob</td>\n",
       "      <td>Full-time and Part-time</td>\n",
       "      <td>False</td>\n",
       "      <td>Texas, United States</td>\n",
       "      <td>2023-10-15 06:02:51</td>\n",
       "      <td>False</td>\n",
       "      <td>False</td>\n",
       "      <td>United States</td>\n",
       "      <td>hour</td>\n",
       "      <td>NaN</td>\n",
       "      <td>39.795002</td>\n",
       "      <td>Presidio, Inc.</td>\n",
       "      <td>['python', 'r', 'sql', 'c', 'aws', 'gcp', 'big...</td>\n",
       "    </tr>\n",
       "  </tbody>\n",
       "</table>\n",
       "</div>"
      ],
      "text/plain": [
       "             job_title_short  \\\n",
       "0      Senior Data Scientist   \n",
       "1              Data Engineer   \n",
       "2        Senior Data Analyst   \n",
       "3  Machine Learning Engineer   \n",
       "4             Data Scientist   \n",
       "\n",
       "                                           job_title    job_location  \\\n",
       "0  Senior Data Scientist Data and Analytics Perfo...  Bennington, NE   \n",
       "1                                 Data Engineer - MA        Mesa, AZ   \n",
       "2  Supervisory Information Technology Specialist ...  Alexandria, VA   \n",
       "3                Machine Learning Research Scientist  Pittsburgh, PA   \n",
       "4                                Data Scientist, AWS      Irving, TX   \n",
       "\n",
       "            job_via        job_schedule_type  job_work_from_home  \\\n",
       "0  via ZipRecruiter                Full-time               False   \n",
       "1        via Indeed                Full-time               False   \n",
       "2  via ZipRecruiter                Full-time               False   \n",
       "3   via Ai-Jobs.net                Full-time               False   \n",
       "4      via Snagajob  Full-time and Part-time               False   \n",
       "\n",
       "           search_location     job_posted_date  job_no_degree_mention  \\\n",
       "0                    Sudan 2023-04-24 09:51:15                  False   \n",
       "1                  Georgia 2023-03-13 12:51:23                   True   \n",
       "2  New York, United States 2023-07-05 07:03:38                   True   \n",
       "3  Illinois, United States 2023-04-13 16:05:41                  False   \n",
       "4     Texas, United States 2023-10-15 06:02:51                  False   \n",
       "\n",
       "   job_health_insurance    job_country salary_rate  salary_year_avg  \\\n",
       "0                  True          Sudan        year         128050.0   \n",
       "1                  True  United States        year         140000.0   \n",
       "2                 False  United States        year         156000.0   \n",
       "3                  True  United States        year         140000.0   \n",
       "4                 False  United States        hour              NaN   \n",
       "\n",
       "   salary_hour_avg                            company_name  \\\n",
       "0              NaN                      Cox Communications   \n",
       "1              NaN                           Worldgate LLC   \n",
       "2              NaN  National Technical Information Service   \n",
       "3              NaN                             Bosch Group   \n",
       "4        39.795002                          Presidio, Inc.   \n",
       "\n",
       "                                          job_skills  \n",
       "0  ['sql', 'python', 'aws', 'pyspark', 'tableau',...  \n",
       "1  ['sql', 'nosql', 'java', 'python', 'kafka', 's...  \n",
       "2                                                NaN  \n",
       "3                          ['pytorch', 'tensorflow']  \n",
       "4  ['python', 'r', 'sql', 'c', 'aws', 'gcp', 'big...  "
      ]
     },
     "execution_count": 95,
     "metadata": {},
     "output_type": "execute_result"
    }
   ],
   "source": [
    "df.head()"
   ]
  },
  {
   "cell_type": "code",
   "execution_count": 185,
   "id": "6dcf7f4e-ec70-4a08-a257-7cfcd6096800",
   "metadata": {},
   "outputs": [
    {
     "data": {
      "text/plain": [
       "(32672, 16)"
      ]
     },
     "execution_count": 185,
     "metadata": {},
     "output_type": "execute_result"
    }
   ],
   "source": [
    "df.shape"
   ]
  },
  {
   "cell_type": "markdown",
   "id": "77d72044",
   "metadata": {},
   "source": [
    "### Unique `job_title_short`"
   ]
  },
  {
   "cell_type": "code",
   "execution_count": 97,
   "id": "2e802c4b",
   "metadata": {},
   "outputs": [],
   "source": [
    "job_titles = ( pd.Series(df.job_title_short.unique(), name = 'job_title')\n",
    "              .sort_values()\n",
    "              .reset_index(drop = True)\n",
    ")"
   ]
  },
  {
   "cell_type": "code",
   "execution_count": 98,
   "id": "08fb306b",
   "metadata": {},
   "outputs": [
    {
     "data": {
      "text/plain": [
       "0             Business Analyst\n",
       "1               Cloud Engineer\n",
       "2                 Data Analyst\n",
       "3                Data Engineer\n",
       "4               Data Scientist\n",
       "5    Machine Learning Engineer\n",
       "6          Senior Data Analyst\n",
       "7         Senior Data Engineer\n",
       "8        Senior Data Scientist\n",
       "9            Software Engineer\n",
       "Name: job_title, dtype: object"
      ]
     },
     "execution_count": 98,
     "metadata": {},
     "output_type": "execute_result"
    }
   ],
   "source": [
    "job_titles"
   ]
  },
  {
   "cell_type": "code",
   "execution_count": 99,
   "id": "203e6bb8",
   "metadata": {},
   "outputs": [],
   "source": [
    "job_titles.to_csv('./csv/job_titles.csv', index = False)"
   ]
  },
  {
   "cell_type": "markdown",
   "id": "8d4421ed",
   "metadata": {},
   "source": [
    "### Unique `company_name`"
   ]
  },
  {
   "cell_type": "code",
   "execution_count": 100,
   "id": "9929ae00-81b2-449f-8c86-291a0ef3002e",
   "metadata": {},
   "outputs": [],
   "source": [
    "# df.company_name.nunique()"
   ]
  },
  {
   "cell_type": "code",
   "execution_count": 101,
   "id": "675cef31-97b0-413e-9255-1bb211ffac02",
   "metadata": {},
   "outputs": [],
   "source": [
    "df.company_name = df.company_name.str.replace('\\u200b', '').str.strip()"
   ]
  },
  {
   "cell_type": "code",
   "execution_count": 102,
   "id": "2688db02",
   "metadata": {},
   "outputs": [
    {
     "data": {
      "text/plain": [
       "22939            #twiceasnice Recruiting\n",
       "22429            #twiceasnice Recruiting\n",
       "32014            #twiceasnice Recruiting\n",
       "29447            #twiceasnice Recruiting\n",
       "29123    (THE VANGUARD GROUP/MALVERN,PA)\n",
       "                      ...               \n",
       "22652                         zooplus SE\n",
       "10615                                ztp\n",
       "3245                               ЛАНИТ\n",
       "18882           Технологическая компания\n",
       "1759                           𝐎𝐩𝐞𝐧𝐬𝐭𝐚𝐟𝐟\n",
       "Name: company_name, Length: 32672, dtype: object"
      ]
     },
     "execution_count": 102,
     "metadata": {},
     "output_type": "execute_result"
    }
   ],
   "source": [
    "df.company_name.sort_values()"
   ]
  },
  {
   "cell_type": "code",
   "execution_count": 103,
   "id": "4155a3a3",
   "metadata": {},
   "outputs": [
    {
     "data": {
      "text/plain": [
       "15279    0nward Select\n",
       "16632    0nward Select\n",
       "Name: company_name, dtype: object"
      ]
     },
     "execution_count": 103,
     "metadata": {},
     "output_type": "execute_result"
    }
   ],
   "source": [
    "df.loc[df.company_name.str.startswith('0'), 'company_name']"
   ]
  },
  {
   "cell_type": "markdown",
   "id": "5538bab7",
   "metadata": {},
   "source": [
    "`0nward select` has a zero as initial O"
   ]
  },
  {
   "cell_type": "code",
   "execution_count": 104,
   "id": "7112beb1",
   "metadata": {},
   "outputs": [],
   "source": [
    "df.loc[df.company_name == '0nward Select', 'company_name'] = 'Onward Select'"
   ]
  },
  {
   "cell_type": "markdown",
   "id": "d69f1583",
   "metadata": {},
   "source": [
    "*Openstaff* has a weird font and won't be recognized as simple string"
   ]
  },
  {
   "cell_type": "code",
   "execution_count": 105,
   "id": "78ed60f1",
   "metadata": {},
   "outputs": [
    {
     "data": {
      "text/plain": [
       "22652                  zooplus SE\n",
       "10615                         ztp\n",
       "3245                        ЛАНИТ\n",
       "18882    Технологическая компания\n",
       "1759                    𝐎𝐩𝐞𝐧𝐬𝐭𝐚𝐟𝐟\n",
       "Name: company_name, dtype: object"
      ]
     },
     "execution_count": 105,
     "metadata": {},
     "output_type": "execute_result"
    }
   ],
   "source": [
    "df.company_name.sort_values().tail(5)"
   ]
  },
  {
   "cell_type": "code",
   "execution_count": 106,
   "id": "a4ff592f",
   "metadata": {},
   "outputs": [],
   "source": [
    "df.loc[1759, 'company_name'] = 'Openstaff'"
   ]
  },
  {
   "cell_type": "markdown",
   "id": "1b6e2e0f",
   "metadata": {},
   "source": [
    "Get a text file with all the values for `company_name`"
   ]
  },
  {
   "cell_type": "code",
   "execution_count": 107,
   "id": "e9608832",
   "metadata": {},
   "outputs": [],
   "source": [
    "with open('df_companies.txt', 'w') as f:\n",
    "    for value in df.company_name:\n",
    "        f.write(f'{value}\\n')"
   ]
  },
  {
   "cell_type": "markdown",
   "id": "8698a045",
   "metadata": {},
   "source": [
    "Process the file using the script `clean_companies.py` and then read the output file"
   ]
  },
  {
   "cell_type": "code",
   "execution_count": 108,
   "id": "b7e5e007",
   "metadata": {},
   "outputs": [],
   "source": [
    "import clean_companies as clean"
   ]
  },
  {
   "cell_type": "code",
   "execution_count": 109,
   "id": "f8db5b63",
   "metadata": {},
   "outputs": [
    {
     "name": "stdout",
     "output_type": "stream",
     "text": [
      "Original number of companies: 32672\n",
      "Unique normalized companies: 9136\n"
     ]
    }
   ],
   "source": [
    "# Process the file\n",
    "clean_companies = clean.process_company_names('df_companies.txt', 'cleaned_companies.txt')"
   ]
  },
  {
   "cell_type": "code",
   "execution_count": 110,
   "id": "2e9b43b3",
   "metadata": {},
   "outputs": [
    {
     "data": {
      "text/plain": [
       "['Cox Communications',\n",
       " 'Worldgate',\n",
       " 'National Technical Information Service',\n",
       " 'Bosch',\n",
       " 'Presidio',\n",
       " 'Lmi Consulting',\n",
       " 'Multiplan',\n",
       " 'Sports Info',\n",
       " 'Arsenault',\n",
       " 'TikTok',\n",
       " 'Pinterest',\n",
       " 'Riot Games',\n",
       " 'Northwest Software',\n",
       " 'TikTok',\n",
       " 'TikTok',\n",
       " 'Forsyth Barnes',\n",
       " 'Emw Staffing',\n",
       " 'Volt Technical Resources',\n",
       " 'Us Army Corps Of Engineers',\n",
       " 'Capital One',\n",
       " 'Jobs Near Me',\n",
       " 'Digirocks',\n",
       " 'Sofi',\n",
       " 'Gravity It Resources',\n",
       " 'Harnham',\n",
       " 'American Family Mutual Insurance',\n",
       " 'TikTok',\n",
       " 'Insight Global',\n",
       " 'Abbvie',\n",
       " 'Unitedhealth',\n",
       " 'Citigroup',\n",
       " 'Lumen',\n",
       " 'Eliassen',\n",
       " 'Motion Recruitment',\n",
       " 'New York University',\n",
       " 'Lmi Consulting',\n",
       " 'Cox Communications',\n",
       " 'Insight Global',\n",
       " 'Idc',\n",
       " 'Office Of General Counsel',\n",
       " 'Northrop Grumman',\n",
       " 'TikTok',\n",
       " 'Kpmg',\n",
       " 'M Science',\n",
       " 'Cisco',\n",
       " 'Federal Reserve System',\n",
       " 'Kpmg',\n",
       " 'Cottonwood Financial',\n",
       " 'Acadia',\n",
       " 'Aditi Consulting',\n",
       " 'Cox Communications',\n",
       " 'Paragon Alpha Hedge Fund Talent Business',\n",
       " 'Sga',\n",
       " 'Brooksource',\n",
       " 'Transtach',\n",
       " 'Lmi Consulting',\n",
       " 'Northwell Health',\n",
       " 'Harnham',\n",
       " 'Interactive Resources Ir',\n",
       " 'Uber',\n",
       " 'Confido',\n",
       " 'Upwork',\n",
       " 'Dish',\n",
       " 'Flex Employee Services',\n",
       " 'Jconnect',\n",
       " 'Iolap',\n",
       " 'Sunrise Systems',\n",
       " 'Connvertex',\n",
       " 'Capital One',\n",
       " 'Jobot',\n",
       " 'Capital One',\n",
       " 'Essex Mortgage',\n",
       " 'Vattenfall',\n",
       " 'Robert Half',\n",
       " 'Vertisystem',\n",
       " 'Soundthinking',\n",
       " 'Highmark',\n",
       " 'Capital One',\n",
       " 'Cox Communications',\n",
       " 'Leadstack',\n",
       " 'Teamviewer',\n",
       " 'Jb Harris Transport',\n",
       " '9992',\n",
       " 'Sustainment',\n",
       " 'Insight Global',\n",
       " 'Cosolutions',\n",
       " 'Pyramid Consulting',\n",
       " 'Edward Jones',\n",
       " 'Noblis',\n",
       " 'Genesis10',\n",
       " 'Theoremone',\n",
       " 'Signa Sports United',\n",
       " 'Harnham',\n",
       " 'Upwork',\n",
       " 'Hanker Pvt',\n",
       " 'Alliant Credit Union',\n",
       " 'Inovex Information Systems',\n",
       " 'Lmi Consulting',\n",
       " 'Bayone',\n",
       " 'Yougov',\n",
       " 'Heartland Financial Usa',\n",
       " 'Rhythmos',\n",
       " 'Siemens Energy',\n",
       " 'Kane Partners',\n",
       " 'Siemens',\n",
       " 'Publicis Groupe',\n",
       " 'Kellogg',\n",
       " 'Presidio',\n",
       " 'Unt System',\n",
       " 'Databricks',\n",
       " 'Robert Half',\n",
       " 'Tivity Health Services',\n",
       " 'Booz Allen Hamilton',\n",
       " 'Upwork',\n",
       " 'Securian Financial',\n",
       " 'Ascendion',\n",
       " 'Robert Half',\n",
       " 'Lpl Financial',\n",
       " 'Capital One',\n",
       " 'Adroit Worldwide Media Awm Smart Shelf',\n",
       " 'Engie North America',\n",
       " 'Insight Global',\n",
       " 'Zelis Healthcare',\n",
       " 'The Chamberlain',\n",
       " 'Yorkshire Global',\n",
       " 'Theoremone',\n",
       " 'Titandatacom',\n",
       " 'Arcadia',\n",
       " 'Resonate',\n",
       " 'Triforce Consulting Services',\n",
       " 'Capital One',\n",
       " 'Demandbase',\n",
       " 'Robert Half',\n",
       " 'Ledgent',\n",
       " 'Jobot',\n",
       " 'Upwork',\n",
       " 'Upwork',\n",
       " 'Vanguard',\n",
       " 'Cybercoders',\n",
       " 'Gxo Logistics',\n",
       " 'Maven Wave Partners',\n",
       " 'The Hartford Financial Services',\n",
       " 'Navient Xtend Healthcare',\n",
       " 'Beam',\n",
       " 'People Source Consulting',\n",
       " 'Jobbatical',\n",
       " 'Wingsict',\n",
       " 'Kpmg',\n",
       " 'Tech Consulting',\n",
       " 'Capital One',\n",
       " 'Cybercoders',\n",
       " 'Vsolvit',\n",
       " 'Peraton',\n",
       " 'Northrop Grumman',\n",
       " 'Bank Of America',\n",
       " 'Upwork',\n",
       " 'Caterpillar',\n",
       " 'Ci&T',\n",
       " 'Lmi Consulting',\n",
       " 'Arsenault',\n",
       " 'Amazee Global Ventures',\n",
       " 'Agility 360',\n",
       " 'New England Biolabs',\n",
       " 'Lowes',\n",
       " 'Health Net',\n",
       " 'Experian',\n",
       " 'Lennar',\n",
       " 'Palta',\n",
       " 'Columbia Sportswear',\n",
       " 'Citizens',\n",
       " 'Robert Half',\n",
       " 'Brainlab',\n",
       " 'Astrazeneca',\n",
       " 'Jobot',\n",
       " 'Caone Tech Cloud',\n",
       " 'Gables Search',\n",
       " 'Axesinmotion',\n",
       " 'Cna',\n",
       " 'Arthur Grand',\n",
       " 'City Of Dallas Tx',\n",
       " 'Cox Communications',\n",
       " 'New England Board Of Higher Education',\n",
       " 'Adobe',\n",
       " 'Oakridge Staffing',\n",
       " 'Stemboard',\n",
       " 'Capital One',\n",
       " 'Delaware North',\n",
       " 'Visa',\n",
       " 'Hireplace',\n",
       " 'Robert Half',\n",
       " 'Ishare',\n",
       " 'Interex',\n",
       " 'Insight Global',\n",
       " 'University Of Texas At Austin',\n",
       " 'Insight Global',\n",
       " 'Glazers Beer And Beverage Of Tx',\n",
       " 'Ecs Federal',\n",
       " 'Pra',\n",
       " 'Rippling',\n",
       " 'Point32Health',\n",
       " 'Unique System Skills',\n",
       " 'CVS',\n",
       " 'Moladin',\n",
       " 'Adobe',\n",
       " 'Caterpillar',\n",
       " 'Braintrust',\n",
       " 'Robert Half',\n",
       " 'Maximus',\n",
       " 'Primus Global Services',\n",
       " 'Workday',\n",
       " 'National Security Agency',\n",
       " 'Jobot',\n",
       " 'Harnham',\n",
       " 'Harnham',\n",
       " 'Oncology Analytics',\n",
       " 'Aegistech',\n",
       " 'Agility Partners',\n",
       " 'Seneca Resources',\n",
       " 'Digital Republic Talent',\n",
       " 'Anblicks',\n",
       " 'Storm3',\n",
       " 'Sandia National Laboratories',\n",
       " 'Five Iron Golf',\n",
       " 'The Talent Advantage',\n",
       " 'Pangeatwo',\n",
       " 'Experian',\n",
       " 'Santa Clara University',\n",
       " 'Wunderman Thompson Commerce',\n",
       " 'Us Department Of Transportation',\n",
       " 'Piper Companies',\n",
       " 'Insight Global',\n",
       " 'Blue Water Thinking',\n",
       " 'Ascendo Resources',\n",
       " 'Bill And Melinda Gates Foundation',\n",
       " 'Teksystems',\n",
       " 'Baker Tilly',\n",
       " 'Deloitte',\n",
       " 'Tresume And Asta Crs',\n",
       " 'Qontigo',\n",
       " 'Burtch Works',\n",
       " 'Pri',\n",
       " 'Streetid',\n",
       " 'Ironclad',\n",
       " 'Us Venture',\n",
       " 'Lorien',\n",
       " 'Signify',\n",
       " 'Capital One',\n",
       " 'Jobot',\n",
       " 'Macmillan Learning',\n",
       " 'Supernal',\n",
       " 'Palladium',\n",
       " 'TikTok',\n",
       " 'Upwork',\n",
       " 'Edward Jones',\n",
       " 'Consensys',\n",
       " 'Sixt',\n",
       " 'Planet',\n",
       " 'Harnham',\n",
       " 'Worldhire',\n",
       " 'Capital One',\n",
       " 'Tristarr Talent',\n",
       " 'Insight Global',\n",
       " 'The Hartford Financial Services',\n",
       " 'Uline',\n",
       " 'Strategic Staffing',\n",
       " 'Brothers Consulting',\n",
       " 'Transtach',\n",
       " 'Codeup',\n",
       " 'Mufg Investor Services',\n",
       " 'Walmart',\n",
       " 'Donaldson',\n",
       " 'Hackajob',\n",
       " 'Maximus',\n",
       " 'Billease',\n",
       " 'Denver Health',\n",
       " 'Bcf',\n",
       " 'Cox Communications',\n",
       " 'Booz Allen Hamilton',\n",
       " 'Parker B Associates',\n",
       " 'Activision',\n",
       " 'Citigroup',\n",
       " 'Kpmg',\n",
       " 'Cox Business Services',\n",
       " 'Inovex Information Systems',\n",
       " 'Lumen',\n",
       " 'Montefiore Medical Center',\n",
       " 'Capital One',\n",
       " 'Signature Retail Services',\n",
       " 'Pubmatic',\n",
       " 'City National Bank Cnb',\n",
       " 'Stealth Startup',\n",
       " 'Innova',\n",
       " 'American National Bank Of Texas',\n",
       " 'Meta',\n",
       " 'Infipact',\n",
       " 'Intralox',\n",
       " 'Cloud Resources',\n",
       " 'Cella',\n",
       " 'Cruise Automation',\n",
       " '1 Point System',\n",
       " 'Upwork',\n",
       " 'Aux Partners',\n",
       " 'Storm5',\n",
       " 'Bristol Myers Squibb',\n",
       " 'Innova',\n",
       " 'Lmi Consulting',\n",
       " 'The Chamberlain',\n",
       " 'Robinhood',\n",
       " 'Vectra',\n",
       " 'Sedona Staffing Services',\n",
       " 'Capital One',\n",
       " 'Kaizen Gaming',\n",
       " 'Booz Allen Hamilton',\n",
       " 'Amp',\n",
       " 'Commonwealth Of Massachusetts Executive Office Of Health And Human Services',\n",
       " 'Brooksource',\n",
       " 'Storm3',\n",
       " 'Software',\n",
       " 'Lhh',\n",
       " 'Citigroup',\n",
       " 'Simplex',\n",
       " 'Robert Half',\n",
       " 'The Johns Hopkins University Applied Physics Laboratory',\n",
       " 'Cybercoders',\n",
       " 'Zachary Piper',\n",
       " 'Flexjobs',\n",
       " 'Cisco Systems',\n",
       " 'Booz Allen Hamilton',\n",
       " 'Capital One',\n",
       " 'Skroutz Sa',\n",
       " 'Synergisticit',\n",
       " 'Highmark Health',\n",
       " 'Cybercoders',\n",
       " 'National Security Agency',\n",
       " 'Booz Allen Hamilton',\n",
       " 'Verizon',\n",
       " 'Plante Moran',\n",
       " 'Kaizer Software',\n",
       " 'Durlston Partners',\n",
       " 'Synergisticit',\n",
       " 'Highmark Health',\n",
       " 'Jobot',\n",
       " 'Nbcuniversal',\n",
       " 'Deloitte',\n",
       " 'Social Finance Sofi',\n",
       " 'Brivo Systems',\n",
       " 'Jp Morgan Chase &',\n",
       " 'Dealer Tire',\n",
       " 'Harnham',\n",
       " 'Capital One',\n",
       " 'Rollsroyce',\n",
       " 'Regional Management',\n",
       " 'Disney Media & Entertainment Distribution',\n",
       " 'Publicis Groupe',\n",
       " 'Synergisticit',\n",
       " 'Eteam',\n",
       " 'The State Of Florida',\n",
       " 'Capital One',\n",
       " 'Alamedatech',\n",
       " 'Northwestern Mutual',\n",
       " 'Veear Projects',\n",
       " 'Upwork',\n",
       " 'Citi',\n",
       " 'Cornerstone Information Systems',\n",
       " 'Jobot',\n",
       " 'Allstem Connections',\n",
       " 'Robert Half',\n",
       " 'Apple',\n",
       " 'Apex Systems',\n",
       " 'Tarvos Talent',\n",
       " 'Stripe',\n",
       " 'Upwork',\n",
       " 'Infosys',\n",
       " 'Securities And Exchange Commission',\n",
       " 'Capital One',\n",
       " 'Zelis Healthcare',\n",
       " 'Booz Allen Hamilton',\n",
       " 'Ascendo Resources',\n",
       " 'Randstad',\n",
       " 'Lmi Consulting',\n",
       " 'Emonics',\n",
       " 'Parsons',\n",
       " 'Blend360',\n",
       " 'Onemagnify',\n",
       " 'Get It Recruit Marketing',\n",
       " 'Aecom',\n",
       " 'Seneca Resources',\n",
       " 'Curry College',\n",
       " 'Talan',\n",
       " 'Booz Allen Hamilton',\n",
       " 'Protek Consulting',\n",
       " 'State Of Florida',\n",
       " 'Insight Global',\n",
       " 'Salt River Project',\n",
       " 'Supernal',\n",
       " 'Walmart',\n",
       " 'Milliporesigma',\n",
       " 'Amplify',\n",
       " 'TikTok',\n",
       " 'Sephora',\n",
       " 'Devoted Health',\n",
       " 'Queen Consulting',\n",
       " 'Capital One',\n",
       " 'Engtal',\n",
       " 'Neteffects',\n",
       " 'Duke Health',\n",
       " 'Upwork',\n",
       " 'Insight Global',\n",
       " 'Prodware',\n",
       " 'University Of Texas At Austin',\n",
       " 'Teragonia',\n",
       " 'Emw Staffing',\n",
       " 'Noblis',\n",
       " 'Walmart',\n",
       " 'Inari',\n",
       " 'Gravity It Resources',\n",
       " 'Cypress Hcm',\n",
       " 'Atyeti',\n",
       " 'Geico',\n",
       " 'National Gallery Of Art',\n",
       " 'Harnham',\n",
       " 'Zelis Healthcare',\n",
       " 'Navy Federal Credit Union',\n",
       " 'Uber',\n",
       " 'Specialcase',\n",
       " 'Jobot',\n",
       " 'Corteva Agriscience',\n",
       " 'Cognizant',\n",
       " 'Get It Recruit Information',\n",
       " 'Rbw Consulting',\n",
       " 'Alta It Services',\n",
       " 'Robert Half',\n",
       " 'Pinterest',\n",
       " 'Eab',\n",
       " 'Travelers Insurance',\n",
       " 'Bristol Myers Squibb',\n",
       " 'Capital One',\n",
       " 'S&P Global',\n",
       " 'Delta Air Lines',\n",
       " 'Capital One',\n",
       " 'Sinclair Broadcast',\n",
       " 'Turing It Labs',\n",
       " 'Nbcuniversal',\n",
       " 'Presidio',\n",
       " 'Chapman University',\n",
       " 'Net2Source',\n",
       " 'Prime Healthcare Management',\n",
       " 'American Family Mutual Insurance',\n",
       " 'Wolt',\n",
       " 'Syneos Health Inventiv Health Commercial',\n",
       " 'TikTok',\n",
       " 'Blue Shield Of California',\n",
       " 'Northern Tool Equipment',\n",
       " 'Ledgent',\n",
       " 'Beyond Meat',\n",
       " 'Profocus',\n",
       " 'Flexjobs',\n",
       " 'Allspring Global Investments',\n",
       " 'Creative Financial Staffing Cfs',\n",
       " 'Trepp',\n",
       " 'American Express',\n",
       " 'Sonos',\n",
       " 'Sofi',\n",
       " 'Digitive',\n",
       " 'TikTok',\n",
       " 'High5',\n",
       " 'Magno It Recruitment',\n",
       " 'Honeybook',\n",
       " 'Navy Federal Credit Union',\n",
       " 'Paragon Executive Intelligence',\n",
       " 'Veeva Systems',\n",
       " 'Arhs',\n",
       " 'Daikin Comfort',\n",
       " 'Ibm Careers',\n",
       " 'Get It Recruit Information',\n",
       " 'Jobot',\n",
       " 'Orbis',\n",
       " 'Acl Digital',\n",
       " 'Robot Insight',\n",
       " 'Acosta',\n",
       " 'Unissant',\n",
       " 'Tata Consultancy Services',\n",
       " 'Uline',\n",
       " 'Atlas Search',\n",
       " 'Akkodis',\n",
       " 'National University',\n",
       " 'Dun & Bradstreet',\n",
       " 'Jobot',\n",
       " 'Sumitomo Mitsui Banking Smbc',\n",
       " 'Alliance For Better Health',\n",
       " 'Charles Schwab',\n",
       " 'Capital One',\n",
       " 'Thrive Global',\n",
       " 'Acceler8 Talent',\n",
       " 'Career Developers',\n",
       " 'Mulligan Funding',\n",
       " 'Terakeet',\n",
       " 'Leidos',\n",
       " 'Roblox',\n",
       " 'Kforce',\n",
       " 'Masis Professional',\n",
       " 'Capital One',\n",
       " 'Berkeley Lab',\n",
       " 'Jobot',\n",
       " 'Booz Allen Hamilton',\n",
       " 'Insight Global',\n",
       " 'City Of San Antonio',\n",
       " 'Fivetran',\n",
       " 'The Chamberlain',\n",
       " 'Pg&E',\n",
       " 'Yes Energy',\n",
       " 'Ukg Ultimate Kronos',\n",
       " 'Regional Management',\n",
       " 'E2 Consulting Engineers',\n",
       " 'Cox Communications',\n",
       " 'Oak Ridge Associated Universities',\n",
       " 'Lely',\n",
       " 'Jobot',\n",
       " 'Lumen',\n",
       " 'Glocomms',\n",
       " 'Booz Allen Hamilton',\n",
       " 'CVS',\n",
       " 'Bayone',\n",
       " 'Relx',\n",
       " 'Worldgate',\n",
       " 'Supernal',\n",
       " 'Nationwide Insurance And Financial Services',\n",
       " 'Alcon',\n",
       " 'Wallex',\n",
       " 'Ntt Data Services',\n",
       " 'Chicago Transit Authority',\n",
       " 'Spectrum',\n",
       " 'Optum',\n",
       " 'Aptask',\n",
       " 'Scytec Consulting',\n",
       " 'Tractable',\n",
       " 'United Service Organizations',\n",
       " 'Ibm',\n",
       " 'Harnham',\n",
       " 'Upwork',\n",
       " 'Social Finance Sofi',\n",
       " 'Cybercoders',\n",
       " 'Capital One',\n",
       " 'Cnam Auditeurs Accueil',\n",
       " 'CVS',\n",
       " 'Honda North America',\n",
       " 'Upwork',\n",
       " 'Sud Recruiting',\n",
       " 'Jefferson College',\n",
       " 'Revel It',\n",
       " 'Hays',\n",
       " 'Novartis Companies',\n",
       " 'Profocus',\n",
       " 'Behavioral Science Research Institute',\n",
       " 'Lmi Consulting',\n",
       " 'Suncaptech',\n",
       " 'Northrop Grumman',\n",
       " 'Jobot',\n",
       " 'Hiretalent Diversity Staffing & Recruiting Firm',\n",
       " 'Snappyhires',\n",
       " 'Upwork',\n",
       " 'Vanguard',\n",
       " 'Engtal',\n",
       " 'The Aci',\n",
       " 'Sonos',\n",
       " 'Leidos',\n",
       " 'Pacific Coast Companies',\n",
       " 'At&T',\n",
       " 'Capital One',\n",
       " 'CVS',\n",
       " '6Sense',\n",
       " 'Sofi',\n",
       " 'Wiredhive',\n",
       " 'Cybercoders',\n",
       " 'Selby Jennings',\n",
       " 'Ingram Content',\n",
       " 'Robert Half',\n",
       " 'Pluralsight',\n",
       " 'Nityo Infotech',\n",
       " 'Canam Consultants',\n",
       " 'The Cloudburst',\n",
       " 'Capital One',\n",
       " 'Lloyds Banking',\n",
       " 'Rockstar Games',\n",
       " 'University Of Pittsburgh',\n",
       " 'Umass Presidents Office',\n",
       " 'Robert Half',\n",
       " 'Compunnel',\n",
       " 'Semanticbits',\n",
       " 'Bright Machines',\n",
       " 'Uline',\n",
       " 'Leidos',\n",
       " 'Jobot',\n",
       " 'Edison',\n",
       " 'Sofi',\n",
       " 'The Lasalle Network',\n",
       " 'Devoteam',\n",
       " 'Morgan Hunter',\n",
       " 'Citizens',\n",
       " 'The Travelers Companies',\n",
       " 'Harnham',\n",
       " 'Ibm',\n",
       " 'Internal Revenue Service',\n",
       " 'Akkodis',\n",
       " 'Foursquare',\n",
       " 'Geocomply',\n",
       " 'Meta',\n",
       " 'Insight Global',\n",
       " 'Trepp',\n",
       " 'Ltimindtree',\n",
       " 'Insight Global',\n",
       " 'Robert Half',\n",
       " 'Nava',\n",
       " 'Oklahoma Complete Health',\n",
       " 'Upwork',\n",
       " 'Lmi Consulting',\n",
       " 'Intelletec',\n",
       " 'TikTok',\n",
       " 'Robert Half',\n",
       " 'Peraton',\n",
       " 'Johns Hopkins University & Medicine Development And Alumni Relations',\n",
       " 'Synergisticit',\n",
       " 'Kpmg',\n",
       " 'Plante Moran',\n",
       " 'Upwork',\n",
       " 'Nisum',\n",
       " 'Truist Financial',\n",
       " 'Daash Intelligence',\n",
       " 'CVS',\n",
       " 'Mastermindcom',\n",
       " 'Request',\n",
       " 'Clarkston Consulting',\n",
       " 'The Travelers Companies',\n",
       " 'Delaware North',\n",
       " 'The Hartford',\n",
       " 'Noblis',\n",
       " 'TikTok',\n",
       " 'Russell Tobin & Associates',\n",
       " 'Lawrence Harvey',\n",
       " 'Get It Recruit Information',\n",
       " 'Meta',\n",
       " 'Nike',\n",
       " 'Cox Communications',\n",
       " 'Citi',\n",
       " 'Accuity',\n",
       " 'Servicenow',\n",
       " 'Wsp',\n",
       " 'Jobot',\n",
       " 'Billcom',\n",
       " 'Braintrust',\n",
       " 'Uline',\n",
       " 'Maritz',\n",
       " 'Mvp Health Care',\n",
       " 'Cybercoders',\n",
       " 'Acadia',\n",
       " 'Publicis Groupe',\n",
       " 'Lasalle Network',\n",
       " 'Coventbridge',\n",
       " 'Amazon',\n",
       " 'Aptask',\n",
       " 'Harnham',\n",
       " 'Health Net',\n",
       " 'Globex It',\n",
       " 'Bdr',\n",
       " 'Kforce',\n",
       " 'Lmi Consulting',\n",
       " 'Robert Half',\n",
       " 'Simplelogix',\n",
       " 'Motivate',\n",
       " 'Vibrant Emotional Health',\n",
       " 'Nextphase',\n",
       " 'Theoremone',\n",
       " 'Robert Half',\n",
       " 'Cybercoders',\n",
       " 'The Elite Job',\n",
       " 'Daash Intelligence',\n",
       " 'Lti Larsen & Toubro Infotech',\n",
       " 'Sonos',\n",
       " 'Acadia',\n",
       " 'Harnham',\n",
       " 'Loopme',\n",
       " 'Khayainfotech',\n",
       " 'American Red Cross',\n",
       " 'Noodles &',\n",
       " 'Leading Edge',\n",
       " 'Syngenta',\n",
       " 'Earl Enterprises',\n",
       " 'Talan',\n",
       " 'Booz Allen Hamilton',\n",
       " 'Synergisticit',\n",
       " 'General Dynamics Information',\n",
       " 'Get It Recruit Information',\n",
       " 'Ascendion',\n",
       " 'Integrated Data Services',\n",
       " 'Snap',\n",
       " 'CVS',\n",
       " 'The Elite Job',\n",
       " 'Grow Therapy',\n",
       " 'Elevance Health',\n",
       " 'Booz Allen Hamilton',\n",
       " 'Charles Schwab',\n",
       " 'Atlassian',\n",
       " 'Unbabel',\n",
       " 'Synergisticit',\n",
       " 'Sourcefly',\n",
       " 'Cystic Fibrosis Foundation',\n",
       " 'Booz Allen Hamilton',\n",
       " 'Lexisnexis',\n",
       " 'Ubisoft',\n",
       " 'Supira Medical',\n",
       " 'Jobot',\n",
       " 'Capital One',\n",
       " 'Validate Health',\n",
       " 'Deliveroo',\n",
       " 'Alameda Corridor Transportation Authority',\n",
       " 'Robert Half',\n",
       " 'Icon Plc',\n",
       " 'Unison Consulting Pte',\n",
       " 'Algo Capital',\n",
       " 'Pri',\n",
       " 'Securian Financial',\n",
       " 'Cgi',\n",
       " 'Nordstrom',\n",
       " 'Wellsfargocom',\n",
       " 'Coalition For Responsible Community Development',\n",
       " 'Armis Security',\n",
       " 'Jp Morgan Chase &',\n",
       " 'Sompo',\n",
       " 'The Elite Job',\n",
       " 'Acuity Brands',\n",
       " 'Cybercoders',\n",
       " 'Talent Software Services',\n",
       " 'Dynatron Software',\n",
       " 'Stefanini North America And Apac',\n",
       " 'Balbix',\n",
       " 'Get It Recruit Information',\n",
       " 'The Friedkin',\n",
       " 'National Grid Uk',\n",
       " 'The Hartford',\n",
       " 'Sompo',\n",
       " 'Aurora Technical Systems',\n",
       " 'Near',\n",
       " 'Legion Consulting',\n",
       " 'Thomasmatthew Associates',\n",
       " 'Boston Medical Center',\n",
       " 'Booz Allen Hamilton',\n",
       " 'Jobot',\n",
       " 'Worldlink Us',\n",
       " 'Cinergy',\n",
       " 'Catch Intelligence',\n",
       " 'Capital One',\n",
       " 'Citi',\n",
       " 'Cgi',\n",
       " 'Stanford University',\n",
       " 'Upwork',\n",
       " 'Meridian Cooperative',\n",
       " 'The Travelers Companies',\n",
       " 'Spec',\n",
       " 'Bigcommerce',\n",
       " 'Harnahm',\n",
       " 'Cybercoders',\n",
       " 'Necsws',\n",
       " 'Lmi Consulting',\n",
       " 'Spokeo',\n",
       " 'Robert Half',\n",
       " 'Visions In View',\n",
       " 'Devoteam',\n",
       " 'Melio',\n",
       " 'Wise',\n",
       " 'Hackajob',\n",
       " 'Capital One',\n",
       " 'Sodexo',\n",
       " 'Intex Diy',\n",
       " 'National Geospatialintelligence Agency',\n",
       " 'Tiaa',\n",
       " 'Mediamath',\n",
       " 'Textron',\n",
       " 'Kalderos',\n",
       " 'Blue Shield Of California',\n",
       " 'Jobot',\n",
       " 'Bluesky Resource',\n",
       " 'Ondemand',\n",
       " 'Ledgent',\n",
       " 'H Mart',\n",
       " 'Prestige Staffing',\n",
       " 'Jobot',\n",
       " 'Merck &',\n",
       " 'Arkansas Center For Data Sciences',\n",
       " 'Ktek Resourcing',\n",
       " 'Farmers Insurance',\n",
       " 'Acl Digital',\n",
       " 'Quickmd',\n",
       " 'Capital One',\n",
       " 'Upwork',\n",
       " 'National Geospatialintelligence Agency',\n",
       " 'Upwork',\n",
       " 'Rad Ai',\n",
       " 'Paypal',\n",
       " 'Sunstate Equipment',\n",
       " 'Zelis Healthcare',\n",
       " 'Teksystems',\n",
       " 'Bosch',\n",
       " 'Harnahm',\n",
       " 'Prosum',\n",
       " 'Version 1',\n",
       " 'Sunrise Systems',\n",
       " 'Upwork',\n",
       " 'Upwork',\n",
       " 'Agility Partners',\n",
       " 'Upwork',\n",
       " 'Citigroup',\n",
       " 'Lennar',\n",
       " 'Stripe',\n",
       " 'Mckinsey &',\n",
       " 'Nextphase',\n",
       " 'Veteran Staffing Network',\n",
       " 'Gsn',\n",
       " 'Insight Enterprises',\n",
       " 'Upwork',\n",
       " 'Capital One',\n",
       " 'Rang',\n",
       " 'Upwork',\n",
       " 'Hashicorp',\n",
       " 'Motion Recruitment',\n",
       " 'Danaher',\n",
       " 'Voodoo',\n",
       " 'Us National Geospatialintelligence Agency',\n",
       " 'Bitflow Innovative',\n",
       " 'Livedocs',\n",
       " 'Ellianse',\n",
       " 'Zoll Medical',\n",
       " 'Kane Partners',\n",
       " 'Caterpillar',\n",
       " 'Orion Groups',\n",
       " 'Staffmax Staffing And Recruiting',\n",
       " 'Rand',\n",
       " 'Metropolitan Transportation Authority',\n",
       " 'Firstpro',\n",
       " 'Nestlé',\n",
       " 'Symetra',\n",
       " 'Venteon',\n",
       " 'Capital One',\n",
       " 'Kla',\n",
       " 'Upwork',\n",
       " 'Signature Consultants',\n",
       " 'Visa',\n",
       " 'Motion Recruitment',\n",
       " 'Hid Global',\n",
       " 'Potash Of Saskatchewan',\n",
       " 'Spacex',\n",
       " 'TikTok',\n",
       " 'Storm3',\n",
       " 'Ringcentral',\n",
       " 'Lawrence Harvey',\n",
       " 'Jobot',\n",
       " 'Staffbee',\n",
       " 'Blue Health Intelligencebhi',\n",
       " 'Trinity',\n",
       " 'The Travelers Companies',\n",
       " 'Accenture',\n",
       " 'Booz Allen Hamilton',\n",
       " 'Firstpro',\n",
       " 'Latentview Analytics',\n",
       " 'Infosight Consulting',\n",
       " 'Y Combinator',\n",
       " 'The Elite Job',\n",
       " 'Insight Global',\n",
       " 'Upwork',\n",
       " 'Insight Global',\n",
       " 'TikTok',\n",
       " 'The Trade Desk',\n",
       " 'Apex Systems',\n",
       " 'Edward Jones',\n",
       " 'Tata Consultancy Services',\n",
       " 'Maxis Clinical Sciences',\n",
       " 'Southwest Florida',\n",
       " 'Insight Global',\n",
       " 'System One',\n",
       " 'Octo Consulting',\n",
       " 'Get It Recruit Information',\n",
       " 'Vertisystem',\n",
       " 'Future Vision 360',\n",
       " 'American University',\n",
       " 'Capital One',\n",
       " 'Transtach',\n",
       " 'Experis',\n",
       " 'Knightsbridgesolutions',\n",
       " 'Icf',\n",
       " 'Dechen Consulting',\n",
       " 'TikTok',\n",
       " 'Neteffects',\n",
       " 'Robert Half',\n",
       " 'Ecocart',\n",
       " 'Primis',\n",
       " 'Equitable',\n",
       " 'Visa',\n",
       " 'Klaveness Digital',\n",
       " 'Talent Navigation Experts',\n",
       " 'Idr',\n",
       " 'American Bureau Of Shipping',\n",
       " 'Pivotal',\n",
       " 'Presidio',\n",
       " 'Interwell Health',\n",
       " 'Cox Communications',\n",
       " 'Gartner',\n",
       " 'Validate Health',\n",
       " 'Schonfeld',\n",
       " 'Fig Food Is Good',\n",
       " 'Peopleconnect',\n",
       " 'Edward Jones',\n",
       " 'Jobot',\n",
       " 'Get It Recruit Information',\n",
       " 'Blend360',\n",
       " 'Leidos',\n",
       " 'Live Nation Entertainment',\n",
       " 'Axis Capital',\n",
       " 'Sofi',\n",
       " 'Starschema',\n",
       " 'The Aerospace',\n",
       " 'Cybercoders',\n",
       " 'Goto',\n",
       " 'Jobot',\n",
       " 'Apple',\n",
       " 'Disney Media & Entertainment Distribution',\n",
       " 'Torch',\n",
       " 'Unity',\n",
       " 'Validate Health',\n",
       " 'Jobot',\n",
       " 'Intaghire',\n",
       " 'Rand',\n",
       " 'Lennar',\n",
       " 'Nets',\n",
       " 'American Bureau Of Shipping',\n",
       " 'Capital One',\n",
       " 'Darrow',\n",
       " 'Harvey Nash',\n",
       " 'Robert Half',\n",
       " 'Merican',\n",
       " 'Yahoo',\n",
       " 'Ecs Federal',\n",
       " 'Northrop Grumman',\n",
       " 'Robert Half',\n",
       " 'Synergisticit',\n",
       " 'Tarvos Talent',\n",
       " 'Hott Source',\n",
       " 'Philips',\n",
       " 'Upwork',\n",
       " 'Configusa',\n",
       " 'Housing Authority Of The City Of Austin',\n",
       " 'Octo Consulting',\n",
       " 'Sinclair Broadcast',\n",
       " 'Danta',\n",
       " 'Stellar Consulting',\n",
       " 'Cybercoders',\n",
       " 'Peoples Community Clinic',\n",
       " 'Allspring Global Investments',\n",
       " 'Robert Half',\n",
       " 'TikTok',\n",
       " 'Pivotal',\n",
       " 'CVS',\n",
       " 'Associated Bank',\n",
       " 'Alteryx',\n",
       " 'Highmark Health',\n",
       " 'Synergisticit',\n",
       " 'Stryker',\n",
       " 'Signify',\n",
       " 'Visa',\n",
       " 'Brooksource',\n",
       " 'Dbsi Services',\n",
       " 'Databricks',\n",
       " 'University Of Californiaberkeley',\n",
       " 'Hackajob',\n",
       " 'Mindlance',\n",
       " 'Validate Health',\n",
       " 'Nielseniq',\n",
       " 'Vectra',\n",
       " 'Southwire',\n",
       " 'Spacex',\n",
       " 'Engie North America',\n",
       " 'Grin',\n",
       " 'Cybercoders',\n",
       " 'Donaldson',\n",
       " 'Us Office Of The Director Of National Intelligence',\n",
       " 'Cisco Systems',\n",
       " 'Rise Technical',\n",
       " 'Vanderhouwen',\n",
       " 'Compri Consulting',\n",
       " 'Snowflake',\n",
       " 'Akur8',\n",
       " 'Capital One',\n",
       " 'Cybercoders',\n",
       " 'Internal Revenue Service',\n",
       " 'Navy Federal Credit Union',\n",
       " 'Danaher',\n",
       " 'Motion Recruitment',\n",
       " 'Motion Recruitment',\n",
       " 'Northwestern Mutual',\n",
       " 'Crowe Llp',\n",
       " 'Tbg The Bachrach',\n",
       " 'Ibm',\n",
       " ...]"
      ]
     },
     "execution_count": 110,
     "metadata": {},
     "output_type": "execute_result"
    }
   ],
   "source": [
    "clean_companies"
   ]
  },
  {
   "cell_type": "markdown",
   "id": "459154ae",
   "metadata": {},
   "source": [
    "Compare the results"
   ]
  },
  {
   "cell_type": "code",
   "execution_count": 111,
   "id": "32e4f30e",
   "metadata": {},
   "outputs": [
    {
     "data": {
      "text/html": [
       "<div>\n",
       "<style scoped>\n",
       "    .dataframe tbody tr th:only-of-type {\n",
       "        vertical-align: middle;\n",
       "    }\n",
       "\n",
       "    .dataframe tbody tr th {\n",
       "        vertical-align: top;\n",
       "    }\n",
       "\n",
       "    .dataframe thead th {\n",
       "        text-align: right;\n",
       "    }\n",
       "</style>\n",
       "<table border=\"1\" class=\"dataframe\">\n",
       "  <thead>\n",
       "    <tr style=\"text-align: right;\">\n",
       "      <th></th>\n",
       "      <th>df</th>\n",
       "      <th>clean</th>\n",
       "    </tr>\n",
       "  </thead>\n",
       "  <tbody>\n",
       "    <tr>\n",
       "      <th>0</th>\n",
       "      <td>Cox Communications</td>\n",
       "      <td>Cox Communications</td>\n",
       "    </tr>\n",
       "    <tr>\n",
       "      <th>1</th>\n",
       "      <td>Worldgate LLC</td>\n",
       "      <td>Worldgate</td>\n",
       "    </tr>\n",
       "    <tr>\n",
       "      <th>2</th>\n",
       "      <td>National Technical Information Service</td>\n",
       "      <td>National Technical Information Service</td>\n",
       "    </tr>\n",
       "    <tr>\n",
       "      <th>3</th>\n",
       "      <td>Bosch Group</td>\n",
       "      <td>Bosch</td>\n",
       "    </tr>\n",
       "    <tr>\n",
       "      <th>4</th>\n",
       "      <td>Presidio, Inc.</td>\n",
       "      <td>Presidio</td>\n",
       "    </tr>\n",
       "  </tbody>\n",
       "</table>\n",
       "</div>"
      ],
      "text/plain": [
       "                                       df  \\\n",
       "0                      Cox Communications   \n",
       "1                           Worldgate LLC   \n",
       "2  National Technical Information Service   \n",
       "3                             Bosch Group   \n",
       "4                          Presidio, Inc.   \n",
       "\n",
       "                                    clean  \n",
       "0                      Cox Communications  \n",
       "1                               Worldgate  \n",
       "2  National Technical Information Service  \n",
       "3                                   Bosch  \n",
       "4                                Presidio  "
      ]
     },
     "execution_count": 111,
     "metadata": {},
     "output_type": "execute_result"
    }
   ],
   "source": [
    "pd.DataFrame({'df' : df.company_name.head(), 'clean' : clean_companies[:5]})"
   ]
  },
  {
   "cell_type": "markdown",
   "id": "f86f8af1",
   "metadata": {},
   "source": [
    "Finally, reassign the clean company names to the dataframe column"
   ]
  },
  {
   "cell_type": "code",
   "execution_count": 112,
   "id": "344ebcb7",
   "metadata": {},
   "outputs": [],
   "source": [
    "df.company_name = clean_companies"
   ]
  },
  {
   "cell_type": "code",
   "execution_count": 113,
   "id": "827cabca",
   "metadata": {},
   "outputs": [
    {
     "data": {
      "text/plain": [
       "np.int64(0)"
      ]
     },
     "execution_count": 113,
     "metadata": {},
     "output_type": "execute_result"
    }
   ],
   "source": [
    "df.company_name.isna().sum()"
   ]
  },
  {
   "cell_type": "markdown",
   "id": "234e72c3",
   "metadata": {},
   "source": [
    "Some `company_name` values are empty (they were Co. Inc., Company... and so on)"
   ]
  },
  {
   "cell_type": "code",
   "execution_count": 114,
   "id": "7decec1c",
   "metadata": {},
   "outputs": [
    {
     "data": {
      "text/plain": [
       "1038     \n",
       "2735     \n",
       "4318     \n",
       "24027    \n",
       "25882    \n",
       "27635    \n",
       "29441    \n",
       "31588    \n",
       "Name: company_name, dtype: object"
      ]
     },
     "execution_count": 114,
     "metadata": {},
     "output_type": "execute_result"
    }
   ],
   "source": [
    "df.company_name[df.company_name == '']"
   ]
  },
  {
   "cell_type": "code",
   "execution_count": 115,
   "id": "30fba477",
   "metadata": {},
   "outputs": [],
   "source": [
    "df.loc[df.company_name == '', 'company_name'] = 'unknown'"
   ]
  },
  {
   "cell_type": "markdown",
   "id": "aa3a318e",
   "metadata": {},
   "source": [
    "Fix some issues with values that are not estrictly duplicated, but will raise an error as duplicates when loading the data into the database."
   ]
  },
  {
   "cell_type": "code",
   "execution_count": 116,
   "id": "d4f5f8b2",
   "metadata": {},
   "outputs": [
    {
     "data": {
      "text/plain": [
       "16953    Mondelēz\n",
       "28685    Mondelez\n",
       "Name: company_name, dtype: object"
      ]
     },
     "execution_count": 116,
     "metadata": {},
     "output_type": "execute_result"
    }
   ],
   "source": [
    "df.company_name[df.company_name.str.contains('Mondel')]"
   ]
  },
  {
   "cell_type": "code",
   "execution_count": 117,
   "id": "1b7a74d0",
   "metadata": {},
   "outputs": [
    {
     "data": {
      "text/plain": [
       "838                     Nestlé\n",
       "2240                    Nestlé\n",
       "4120                    Nestlé\n",
       "5843                    Nestlé\n",
       "8896                    Nestlé\n",
       "9238                    Nestlé\n",
       "10826                   Nestlé\n",
       "13061                   Nestle\n",
       "15780                   Nestlé\n",
       "16330                   Nestlé\n",
       "17430                   Nestle\n",
       "17688                   Nestlé\n",
       "17784    Nestl Purina Pet Care\n",
       "17821                   Nestle\n",
       "21907                   Nestlé\n",
       "23068                   Nestle\n",
       "25319                   Nestlé\n",
       "25890                   Nestle\n",
       "30503                   Nestlé\n",
       "Name: company_name, dtype: object"
      ]
     },
     "execution_count": 117,
     "metadata": {},
     "output_type": "execute_result"
    }
   ],
   "source": [
    "df.company_name[df.company_name.str.contains('Nestl')]"
   ]
  },
  {
   "cell_type": "code",
   "execution_count": 118,
   "id": "71c566b3",
   "metadata": {},
   "outputs": [],
   "source": [
    "df.loc[df.company_name == 'Nestle', 'company_name'] = 'Nestlé'"
   ]
  },
  {
   "cell_type": "code",
   "execution_count": 119,
   "id": "3cd01416",
   "metadata": {},
   "outputs": [],
   "source": [
    "df.loc[df.company_name.str.contains('Mondel'), 'company_name'] = 'Mondelez'"
   ]
  },
  {
   "cell_type": "markdown",
   "id": "ed5d3e8f",
   "metadata": {},
   "source": [
    "Get list of unique companies:"
   ]
  },
  {
   "cell_type": "code",
   "execution_count": 120,
   "id": "a165352a",
   "metadata": {},
   "outputs": [],
   "source": [
    "companies = pd.Series(df.company_name.unique(), name = 'company')"
   ]
  },
  {
   "cell_type": "code",
   "execution_count": 121,
   "id": "2f66c46c-6f1f-44ac-8bc8-63bf8b0af3c3",
   "metadata": {},
   "outputs": [],
   "source": [
    "companies = companies.sort_values().reset_index(drop=True)"
   ]
  },
  {
   "cell_type": "code",
   "execution_count": 122,
   "id": "acbfd7c1",
   "metadata": {},
   "outputs": [],
   "source": [
    "companies.to_csv('./csv/companies.csv', index = False)"
   ]
  },
  {
   "cell_type": "markdown",
   "id": "d71df7d1",
   "metadata": {},
   "source": [
    "### Unique locations"
   ]
  },
  {
   "cell_type": "code",
   "execution_count": 123,
   "id": "67a7da31-1891-4c3f-90cb-08f8fec44411",
   "metadata": {},
   "outputs": [],
   "source": [
    "# df.job_country.unique()"
   ]
  },
  {
   "cell_type": "code",
   "execution_count": 124,
   "id": "1b1897cc-1282-41a5-9f4b-822b6e37c366",
   "metadata": {},
   "outputs": [],
   "source": [
    "countries = pd.Series(df.job_country.unique())"
   ]
  },
  {
   "cell_type": "markdown",
   "id": "84185c6d",
   "metadata": {},
   "source": [
    "I will add Georgia to the countries table."
   ]
  },
  {
   "cell_type": "code",
   "execution_count": 125,
   "id": "c56e8948",
   "metadata": {},
   "outputs": [],
   "source": [
    "countries = pd.concat([countries, pd.Series('Georgia')])\n",
    "countries = countries.sort_values().reset_index(drop = True)\n",
    "countries.name = 'country'"
   ]
  },
  {
   "cell_type": "code",
   "execution_count": 126,
   "id": "c25ba3f1-cc81-48ce-994e-6af723bc5ae5",
   "metadata": {},
   "outputs": [],
   "source": [
    "# countries.head()"
   ]
  },
  {
   "cell_type": "code",
   "execution_count": 127,
   "id": "c45ebcd7",
   "metadata": {},
   "outputs": [],
   "source": [
    "countries.to_csv('./csv/countries.csv', index = False)"
   ]
  },
  {
   "cell_type": "markdown",
   "id": "da6d755d-ce81-453b-b580-6ba1f882542c",
   "metadata": {},
   "source": [
    "#### Unique `job_location`"
   ]
  },
  {
   "cell_type": "code",
   "execution_count": 128,
   "id": "8b9be90b-e7bf-4c0a-be05-609ebe5468a3",
   "metadata": {},
   "outputs": [],
   "source": [
    "# df.job_location.unique()"
   ]
  },
  {
   "cell_type": "code",
   "execution_count": 129,
   "id": "ca5ed93c-56a6-4c1c-918d-fbfc64da2159",
   "metadata": {},
   "outputs": [],
   "source": [
    "df.job_location = df.job_location.str.strip().fillna('unknown')"
   ]
  },
  {
   "cell_type": "markdown",
   "id": "34c24754",
   "metadata": {},
   "source": [
    "There are a couple of duplicates:  \n",
    "Vilnius, Vilnius City Municipality, Lithuania  \n",
    "Vilnius, Vilnius city municipality, Lithuania"
   ]
  },
  {
   "cell_type": "code",
   "execution_count": 130,
   "id": "be0b84ab",
   "metadata": {},
   "outputs": [],
   "source": [
    "df.loc[df.job_location.str.contains('Vilnius'), 'job_location'] = 'Vilnius, Vilnius City Municipality, Lithuania'"
   ]
  },
  {
   "cell_type": "code",
   "execution_count": 131,
   "id": "7621e118",
   "metadata": {},
   "outputs": [
    {
     "data": {
      "text/plain": [
       "0                A Coruña, Spain\n",
       "1                Aarhus, Denmark\n",
       "2                Abbott Park, IL\n",
       "3                      Abell, MD\n",
       "4    Aberdeen Proving Ground, MD\n",
       "Name: location_name, dtype: object"
      ]
     },
     "execution_count": 131,
     "metadata": {},
     "output_type": "execute_result"
    }
   ],
   "source": [
    "job_locations = pd.Series(df.job_location.unique(), name = 'location_name')\n",
    "job_locations = job_locations.sort_values().reset_index(drop = True)\n",
    "\n",
    "job_locations.head()"
   ]
  },
  {
   "cell_type": "code",
   "execution_count": 132,
   "id": "a2557966",
   "metadata": {},
   "outputs": [],
   "source": [
    "job_locations.to_csv('./csv/locations.csv', index = False)"
   ]
  },
  {
   "cell_type": "markdown",
   "id": "02418ce7-9556-4215-b990-a90105bc616c",
   "metadata": {},
   "source": [
    "Check if the search_locations are contained either in job_country or job_location"
   ]
  },
  {
   "cell_type": "code",
   "execution_count": 133,
   "id": "315c47d1-925d-4a6e-a603-2941958f85cd",
   "metadata": {},
   "outputs": [
    {
     "name": "stdout",
     "output_type": "stream",
     "text": [
      "New York, United States\n",
      "Illinois, United States\n",
      "Texas, United States\n",
      "California, United States\n",
      "Florida, United States\n"
     ]
    }
   ],
   "source": [
    "for s in df.search_location.unique():\n",
    "    if s not in countries.values:\n",
    "        print(s)"
   ]
  },
  {
   "cell_type": "markdown",
   "id": "0332ea6b-341c-492c-b68d-808940f1081b",
   "metadata": {},
   "source": [
    "I will set the `search_location` values which contain *United States* (State, United States) to just *United States*"
   ]
  },
  {
   "cell_type": "code",
   "execution_count": 134,
   "id": "b76e0e38-c022-4eca-adc0-f5ed025a254f",
   "metadata": {},
   "outputs": [],
   "source": [
    "df.loc[df.search_location.str.contains('United States'), 'search_location'] = 'United States'"
   ]
  },
  {
   "cell_type": "markdown",
   "id": "faece629-000a-4193-b5c7-b680a3f1230b",
   "metadata": {},
   "source": [
    "### Unique `job_schedule_type`"
   ]
  },
  {
   "cell_type": "code",
   "execution_count": 135,
   "id": "c7cdfac8",
   "metadata": {},
   "outputs": [],
   "source": [
    "# df.job_schedule_type.unique()"
   ]
  },
  {
   "cell_type": "code",
   "execution_count": 136,
   "id": "c1cc9f52",
   "metadata": {},
   "outputs": [],
   "source": [
    "# df.job_schedule_type.head()"
   ]
  },
  {
   "cell_type": "code",
   "execution_count": 137,
   "id": "3d21eec1",
   "metadata": {},
   "outputs": [],
   "source": [
    "df.job_schedule_type = df.job_schedule_type.fillna('NULL')"
   ]
  },
  {
   "cell_type": "markdown",
   "id": "6c83d627",
   "metadata": {},
   "source": [
    "Convert `job_schedule_type` to list of values so I can explode the dataset later"
   ]
  },
  {
   "cell_type": "code",
   "execution_count": 138,
   "id": "2ea7587e",
   "metadata": {},
   "outputs": [],
   "source": [
    "def convert_schedule_into_list(row):\n",
    "    if row != 'NULL':\n",
    "        row = row.replace(' and ', ',').replace(',,', ',').split(',')\n",
    "        \n",
    "    # for string with only one schedule, convert to list\n",
    "    # and return a list\n",
    "    if isinstance(row, str):\n",
    "        return [row]\n",
    "    \n",
    "    return row"
   ]
  },
  {
   "cell_type": "code",
   "execution_count": 139,
   "id": "3d27a574",
   "metadata": {},
   "outputs": [],
   "source": [
    "df.job_schedule_type = df.job_schedule_type.apply(convert_schedule_into_list)"
   ]
  },
  {
   "cell_type": "code",
   "execution_count": 140,
   "id": "2b7e0325",
   "metadata": {},
   "outputs": [],
   "source": [
    "all_schedules = []\n",
    "for i in df.job_schedule_type:\n",
    "    all_schedules += i\n",
    "    unique_schedules = list(set(all_schedules))\n",
    "unique_schedules = [i.strip() for i in unique_schedules if i != 'NULL' ]\n",
    "\n",
    "schedules = (pd.Series(unique_schedules, name='schedule_type')\n",
    "             .drop_duplicates()\n",
    "             .sort_values()\n",
    "             .reset_index(drop = True)\n",
    ")"
   ]
  },
  {
   "cell_type": "code",
   "execution_count": 141,
   "id": "db182378",
   "metadata": {},
   "outputs": [],
   "source": [
    "# schedules"
   ]
  },
  {
   "cell_type": "code",
   "execution_count": 142,
   "id": "23d96f2e",
   "metadata": {},
   "outputs": [],
   "source": [
    "schedules.to_csv('./csv/job_schedules.csv', index = False)"
   ]
  },
  {
   "cell_type": "markdown",
   "id": "8424ebea-31fa-4eda-bc65-c95765bc134c",
   "metadata": {},
   "source": [
    "### Unique `job_via`"
   ]
  },
  {
   "cell_type": "code",
   "execution_count": 143,
   "id": "3d547ef9",
   "metadata": {},
   "outputs": [],
   "source": [
    "df.job_via = df.job_via.fillna('unknown')"
   ]
  },
  {
   "cell_type": "code",
   "execution_count": 144,
   "id": "cc4071d8-084a-41d8-a047-8fd001d9737b",
   "metadata": {},
   "outputs": [],
   "source": [
    "df.job_via = df.job_via.str.replace('via ', '').str.strip()"
   ]
  },
  {
   "cell_type": "code",
   "execution_count": 145,
   "id": "77d2cb6a-127e-47f5-bded-651254e05ade",
   "metadata": {
    "scrolled": true
   },
   "outputs": [],
   "source": [
    "job_via = pd.Series( sorted(df.job_via.unique(), key=lambda x : -len(x)) )"
   ]
  },
  {
   "cell_type": "code",
   "execution_count": 146,
   "id": "e729dee2",
   "metadata": {},
   "outputs": [],
   "source": [
    "# job_via"
   ]
  },
  {
   "cell_type": "markdown",
   "id": "8e4d2105",
   "metadata": {},
   "source": [
    "Remove duplicates in the job portals (`job_via`) list."
   ]
  },
  {
   "cell_type": "code",
   "execution_count": 147,
   "id": "2758b5fe",
   "metadata": {},
   "outputs": [],
   "source": [
    "lowercase_job_via = job_via.str.lower()\n",
    "job_via_counts = lowercase_job_via.value_counts().sort_values(ascending = False)"
   ]
  },
  {
   "cell_type": "code",
   "execution_count": 148,
   "id": "e80fd19e",
   "metadata": {},
   "outputs": [
    {
     "data": {
      "text/plain": [
       "informs career center - informs.org    2\n",
       "linkedin                               2\n",
       "jobserve                               2\n",
       "Name: count, dtype: int64"
      ]
     },
     "execution_count": 148,
     "metadata": {},
     "output_type": "execute_result"
    }
   ],
   "source": [
    "job_via_counts[job_via_counts > 1]"
   ]
  },
  {
   "cell_type": "markdown",
   "id": "104558e7",
   "metadata": {},
   "source": [
    "There are 3 duplicate values"
   ]
  },
  {
   "cell_type": "code",
   "execution_count": 149,
   "id": "b0bfe2f6",
   "metadata": {},
   "outputs": [
    {
     "data": {
      "text/plain": [
       "61     JobServe - Project Manager Jobs\n",
       "79        JobServe - Jobs With Walmart\n",
       "102          JobServe - Developer Jobs\n",
       "109          JobServe - Bilingual Jobs\n",
       "113           Maryland Jobs - JobServe\n",
       "157             LinkedIn Côte D'Ivoire\n",
       "250                LinkedIn Luxembourg\n",
       "262                LinkedIn Azerbaijan\n",
       "369                   LinkedIn Vietnam\n",
       "378                   LinkedIn Hungary\n",
       "417                     LinkedIn Malta\n",
       "452                        IT JobServe\n",
       "542                           LinkedIn\n",
       "543                           JobServe\n",
       "547                           Jobserve\n",
       "562                           Linkedin\n",
       "dtype: object"
      ]
     },
     "execution_count": 149,
     "metadata": {},
     "output_type": "execute_result"
    }
   ],
   "source": [
    "job_via[job_via.str.lower().str.contains('inkedin') |\n",
    "         job_via.str.lower().str.contains('serve')]\n"
   ]
  },
  {
   "cell_type": "markdown",
   "id": "bb125ca2",
   "metadata": {},
   "source": [
    "It turned out that many portals can be reduced to just `Jobserve` or `LinkedIn`"
   ]
  },
  {
   "cell_type": "code",
   "execution_count": 150,
   "id": "ed91badc",
   "metadata": {},
   "outputs": [],
   "source": [
    "job_via[job_via.str.lower().str.contains('inkedin')] = 'LinkedIn'\n",
    "job_via[job_via.str.lower().str.contains('serve')] = 'JobServe'\n",
    "job_via[job_via.str.lower().str.contains('informs.org')] = 'Informs Career Center - informs.org'"
   ]
  },
  {
   "cell_type": "code",
   "execution_count": 151,
   "id": "b28c7386-93dc-4615-841d-665400657e14",
   "metadata": {},
   "outputs": [],
   "source": [
    "# [i for i in job_via if ',' in i]"
   ]
  },
  {
   "cell_type": "markdown",
   "id": "ee885540",
   "metadata": {},
   "source": [
    "Reduce the job posting sources that contain *Geebo* or *Talentify*"
   ]
  },
  {
   "cell_type": "code",
   "execution_count": 152,
   "id": "e0bab113",
   "metadata": {},
   "outputs": [],
   "source": [
    "job_via[job_via.str.lower().str.contains('geebo')] = 'geebo.com'\n",
    "job_via[job_via.str.contains('Talentify')] = 'Talentify'"
   ]
  },
  {
   "cell_type": "markdown",
   "id": "cb5352fc",
   "metadata": {},
   "source": [
    "Remove duplicates"
   ]
  },
  {
   "cell_type": "code",
   "execution_count": 153,
   "id": "147e9b13",
   "metadata": {},
   "outputs": [
    {
     "data": {
      "text/plain": [
       "((596,), (321,))"
      ]
     },
     "execution_count": 153,
     "metadata": {},
     "output_type": "execute_result"
    }
   ],
   "source": [
    "# before / after removing duplicates\n",
    "job_via.shape, job_via.drop_duplicates().shape"
   ]
  },
  {
   "cell_type": "code",
   "execution_count": 154,
   "id": "9298f81e",
   "metadata": {},
   "outputs": [],
   "source": [
    "job_via.drop_duplicates(inplace= True)"
   ]
  },
  {
   "cell_type": "code",
   "execution_count": 155,
   "id": "973f5316",
   "metadata": {},
   "outputs": [],
   "source": [
    "job_via = job_via.str.replace('Www.', 'www.')"
   ]
  },
  {
   "cell_type": "code",
   "execution_count": 156,
   "id": "5d637168",
   "metadata": {},
   "outputs": [],
   "source": [
    "# print(*job_via, sep = '\\n')"
   ]
  },
  {
   "cell_type": "code",
   "execution_count": 157,
   "id": "24f1f979-313c-4e16-bf9b-ff98ec9cec13",
   "metadata": {},
   "outputs": [],
   "source": [
    "job_via[job_via == 'InternsVilla | Hub Of Internships -'] = 'InternsVilla | Hub Of Internships'"
   ]
  },
  {
   "cell_type": "code",
   "execution_count": 158,
   "id": "17db154b",
   "metadata": {},
   "outputs": [],
   "source": [
    "job_via = pd.Series(job_via, name = 'job_via').sort_values().reset_index(drop = True)"
   ]
  },
  {
   "cell_type": "code",
   "execution_count": 159,
   "id": "be9a7cec",
   "metadata": {},
   "outputs": [],
   "source": [
    "job_via.to_csv('./csv/job_via.csv', index = False)"
   ]
  },
  {
   "cell_type": "markdown",
   "id": "c6843858",
   "metadata": {},
   "source": [
    "### Unique `job_skills`"
   ]
  },
  {
   "cell_type": "code",
   "execution_count": 160,
   "id": "34b14516",
   "metadata": {},
   "outputs": [],
   "source": [
    "skills = list(df.job_skills.fillna('NULL').unique())"
   ]
  },
  {
   "cell_type": "code",
   "execution_count": 161,
   "id": "5bb41268",
   "metadata": {},
   "outputs": [],
   "source": [
    "skills = [i.replace('[', '')\n",
    "          .replace(']', '')\n",
    "          .replace(\"'\", '')\n",
    "          for i in skills if i != 'NULL']"
   ]
  },
  {
   "cell_type": "code",
   "execution_count": 162,
   "id": "2b0b200d",
   "metadata": {},
   "outputs": [],
   "source": [
    "skills_expanded = ', '.join(skills).split(', ')\n",
    "skills = list(set(skills_expanded))"
   ]
  },
  {
   "cell_type": "code",
   "execution_count": 163,
   "id": "5a18c1a4",
   "metadata": {},
   "outputs": [],
   "source": [
    "job_skills = pd.Series(skills).sort_values().reset_index(drop = True)\n",
    "job_skills.name = 'skill'"
   ]
  },
  {
   "cell_type": "code",
   "execution_count": 164,
   "id": "342b027b",
   "metadata": {},
   "outputs": [],
   "source": [
    "# job_skills"
   ]
  },
  {
   "cell_type": "code",
   "execution_count": 165,
   "id": "7221a740",
   "metadata": {},
   "outputs": [],
   "source": [
    "job_skills.to_csv('./csv/skills.csv', index = False)"
   ]
  },
  {
   "cell_type": "markdown",
   "id": "906b086e",
   "metadata": {},
   "source": [
    "Explode the original dataset to generate a row for every skill required in the job posting."
   ]
  },
  {
   "cell_type": "code",
   "execution_count": 166,
   "id": "46e101b7",
   "metadata": {},
   "outputs": [],
   "source": [
    "def expand_skills(row):\n",
    "    if not isinstance(row, float):\n",
    "        skills_list = (row.replace('[', '')\n",
    "                    .replace(']', '')\n",
    "                    .replace(\"'\", '')\n",
    "        )\n",
    "        skills_list = skills_list.split(', ')\n",
    "        return skills_list\n",
    "    else:\n",
    "        return row"
   ]
  },
  {
   "cell_type": "code",
   "execution_count": 167,
   "id": "6406d7b8",
   "metadata": {},
   "outputs": [],
   "source": [
    "df.job_skills = df.job_skills.apply(expand_skills)"
   ]
  },
  {
   "cell_type": "markdown",
   "id": "09c1ba7a",
   "metadata": {},
   "source": [
    "### Explode the dataset by `job_skills` and `job_schedule_type`"
   ]
  },
  {
   "cell_type": "code",
   "execution_count": 168,
   "id": "3d0f2bef",
   "metadata": {},
   "outputs": [],
   "source": [
    "df2 = df.explode('job_schedule_type')\n",
    "df2 = df2.explode('job_skills')"
   ]
  },
  {
   "cell_type": "markdown",
   "id": "f70e844f",
   "metadata": {},
   "source": [
    "### Normalize `job_country`"
   ]
  },
  {
   "cell_type": "code",
   "execution_count": 169,
   "id": "6157843c",
   "metadata": {},
   "outputs": [],
   "source": [
    "s = pd.Series(countries.index, index = countries.values)\n",
    "df2.job_country = df2.job_country.map(s)"
   ]
  },
  {
   "cell_type": "markdown",
   "id": "4db3f437",
   "metadata": {},
   "source": [
    "### Normalize `job_location`"
   ]
  },
  {
   "cell_type": "code",
   "execution_count": 170,
   "id": "7a89e5a4",
   "metadata": {},
   "outputs": [],
   "source": [
    "job_locations = job_locations.dropna()"
   ]
  },
  {
   "cell_type": "code",
   "execution_count": 171,
   "id": "6544d5a2",
   "metadata": {},
   "outputs": [],
   "source": [
    "s = pd.Series(job_locations.index, index = job_locations.values)\n",
    "df2.job_location = df2.job_location.map(s)"
   ]
  },
  {
   "cell_type": "markdown",
   "id": "606e1080",
   "metadata": {},
   "source": [
    "### Normalize `job_via`"
   ]
  },
  {
   "cell_type": "code",
   "execution_count": 172,
   "id": "992e61ab",
   "metadata": {},
   "outputs": [
    {
     "data": {
      "text/plain": [
       "0                1840 & Company\n",
       "1      247 Careers For Freshers\n",
       "2                    AEC Living\n",
       "3                    AI Careers\n",
       "4                   AITechTrend\n",
       "                 ...           \n",
       "316               www.hireme.ai\n",
       "317           www.joblatter.net\n",
       "318             www.worklis.com\n",
       "319                          领英\n",
       "320                      领英(中国)\n",
       "Name: job_via, Length: 321, dtype: object"
      ]
     },
     "execution_count": 172,
     "metadata": {},
     "output_type": "execute_result"
    }
   ],
   "source": [
    "job_via"
   ]
  },
  {
   "cell_type": "code",
   "execution_count": 173,
   "id": "765fdc62",
   "metadata": {},
   "outputs": [],
   "source": [
    "s = pd.Series(job_via.index, index = job_via.values)\n",
    "df2.job_via = df2.job_via.map(s)"
   ]
  },
  {
   "cell_type": "code",
   "execution_count": 174,
   "id": "5c6a0c04",
   "metadata": {},
   "outputs": [
    {
     "data": {
      "text/html": [
       "<div>\n",
       "<style scoped>\n",
       "    .dataframe tbody tr th:only-of-type {\n",
       "        vertical-align: middle;\n",
       "    }\n",
       "\n",
       "    .dataframe tbody tr th {\n",
       "        vertical-align: top;\n",
       "    }\n",
       "\n",
       "    .dataframe thead th {\n",
       "        text-align: right;\n",
       "    }\n",
       "</style>\n",
       "<table border=\"1\" class=\"dataframe\">\n",
       "  <thead>\n",
       "    <tr style=\"text-align: right;\">\n",
       "      <th></th>\n",
       "      <th>job_title_short</th>\n",
       "      <th>job_title</th>\n",
       "      <th>job_location</th>\n",
       "      <th>job_via</th>\n",
       "      <th>job_schedule_type</th>\n",
       "      <th>job_work_from_home</th>\n",
       "      <th>search_location</th>\n",
       "      <th>job_posted_date</th>\n",
       "      <th>job_no_degree_mention</th>\n",
       "      <th>job_health_insurance</th>\n",
       "      <th>job_country</th>\n",
       "      <th>salary_rate</th>\n",
       "      <th>salary_year_avg</th>\n",
       "      <th>salary_hour_avg</th>\n",
       "      <th>company_name</th>\n",
       "      <th>job_skills</th>\n",
       "    </tr>\n",
       "  </thead>\n",
       "  <tbody>\n",
       "    <tr>\n",
       "      <th>0</th>\n",
       "      <td>Senior Data Scientist</td>\n",
       "      <td>Senior Data Scientist Data and Analytics Perfo...</td>\n",
       "      <td>206</td>\n",
       "      <td>312.0</td>\n",
       "      <td>Full-time</td>\n",
       "      <td>False</td>\n",
       "      <td>Sudan</td>\n",
       "      <td>2023-04-24 09:51:15</td>\n",
       "      <td>False</td>\n",
       "      <td>True</td>\n",
       "      <td>94</td>\n",
       "      <td>year</td>\n",
       "      <td>128050.0</td>\n",
       "      <td>NaN</td>\n",
       "      <td>Cox Communications</td>\n",
       "      <td>sql</td>\n",
       "    </tr>\n",
       "    <tr>\n",
       "      <th>0</th>\n",
       "      <td>Senior Data Scientist</td>\n",
       "      <td>Senior Data Scientist Data and Analytics Perfo...</td>\n",
       "      <td>206</td>\n",
       "      <td>312.0</td>\n",
       "      <td>Full-time</td>\n",
       "      <td>False</td>\n",
       "      <td>Sudan</td>\n",
       "      <td>2023-04-24 09:51:15</td>\n",
       "      <td>False</td>\n",
       "      <td>True</td>\n",
       "      <td>94</td>\n",
       "      <td>year</td>\n",
       "      <td>128050.0</td>\n",
       "      <td>NaN</td>\n",
       "      <td>Cox Communications</td>\n",
       "      <td>python</td>\n",
       "    </tr>\n",
       "    <tr>\n",
       "      <th>0</th>\n",
       "      <td>Senior Data Scientist</td>\n",
       "      <td>Senior Data Scientist Data and Analytics Perfo...</td>\n",
       "      <td>206</td>\n",
       "      <td>312.0</td>\n",
       "      <td>Full-time</td>\n",
       "      <td>False</td>\n",
       "      <td>Sudan</td>\n",
       "      <td>2023-04-24 09:51:15</td>\n",
       "      <td>False</td>\n",
       "      <td>True</td>\n",
       "      <td>94</td>\n",
       "      <td>year</td>\n",
       "      <td>128050.0</td>\n",
       "      <td>NaN</td>\n",
       "      <td>Cox Communications</td>\n",
       "      <td>aws</td>\n",
       "    </tr>\n",
       "    <tr>\n",
       "      <th>0</th>\n",
       "      <td>Senior Data Scientist</td>\n",
       "      <td>Senior Data Scientist Data and Analytics Perfo...</td>\n",
       "      <td>206</td>\n",
       "      <td>312.0</td>\n",
       "      <td>Full-time</td>\n",
       "      <td>False</td>\n",
       "      <td>Sudan</td>\n",
       "      <td>2023-04-24 09:51:15</td>\n",
       "      <td>False</td>\n",
       "      <td>True</td>\n",
       "      <td>94</td>\n",
       "      <td>year</td>\n",
       "      <td>128050.0</td>\n",
       "      <td>NaN</td>\n",
       "      <td>Cox Communications</td>\n",
       "      <td>pyspark</td>\n",
       "    </tr>\n",
       "    <tr>\n",
       "      <th>0</th>\n",
       "      <td>Senior Data Scientist</td>\n",
       "      <td>Senior Data Scientist Data and Analytics Perfo...</td>\n",
       "      <td>206</td>\n",
       "      <td>312.0</td>\n",
       "      <td>Full-time</td>\n",
       "      <td>False</td>\n",
       "      <td>Sudan</td>\n",
       "      <td>2023-04-24 09:51:15</td>\n",
       "      <td>False</td>\n",
       "      <td>True</td>\n",
       "      <td>94</td>\n",
       "      <td>year</td>\n",
       "      <td>128050.0</td>\n",
       "      <td>NaN</td>\n",
       "      <td>Cox Communications</td>\n",
       "      <td>tableau</td>\n",
       "    </tr>\n",
       "  </tbody>\n",
       "</table>\n",
       "</div>"
      ],
      "text/plain": [
       "         job_title_short                                          job_title  \\\n",
       "0  Senior Data Scientist  Senior Data Scientist Data and Analytics Perfo...   \n",
       "0  Senior Data Scientist  Senior Data Scientist Data and Analytics Perfo...   \n",
       "0  Senior Data Scientist  Senior Data Scientist Data and Analytics Perfo...   \n",
       "0  Senior Data Scientist  Senior Data Scientist Data and Analytics Perfo...   \n",
       "0  Senior Data Scientist  Senior Data Scientist Data and Analytics Perfo...   \n",
       "\n",
       "   job_location  job_via job_schedule_type  job_work_from_home  \\\n",
       "0           206    312.0         Full-time               False   \n",
       "0           206    312.0         Full-time               False   \n",
       "0           206    312.0         Full-time               False   \n",
       "0           206    312.0         Full-time               False   \n",
       "0           206    312.0         Full-time               False   \n",
       "\n",
       "  search_location     job_posted_date  job_no_degree_mention  \\\n",
       "0           Sudan 2023-04-24 09:51:15                  False   \n",
       "0           Sudan 2023-04-24 09:51:15                  False   \n",
       "0           Sudan 2023-04-24 09:51:15                  False   \n",
       "0           Sudan 2023-04-24 09:51:15                  False   \n",
       "0           Sudan 2023-04-24 09:51:15                  False   \n",
       "\n",
       "   job_health_insurance  job_country salary_rate  salary_year_avg  \\\n",
       "0                  True           94        year         128050.0   \n",
       "0                  True           94        year         128050.0   \n",
       "0                  True           94        year         128050.0   \n",
       "0                  True           94        year         128050.0   \n",
       "0                  True           94        year         128050.0   \n",
       "\n",
       "   salary_hour_avg        company_name job_skills  \n",
       "0              NaN  Cox Communications        sql  \n",
       "0              NaN  Cox Communications     python  \n",
       "0              NaN  Cox Communications        aws  \n",
       "0              NaN  Cox Communications    pyspark  \n",
       "0              NaN  Cox Communications    tableau  "
      ]
     },
     "execution_count": 174,
     "metadata": {},
     "output_type": "execute_result"
    }
   ],
   "source": [
    "df2.head()"
   ]
  },
  {
   "cell_type": "markdown",
   "id": "efc60775",
   "metadata": {},
   "source": [
    "### Normalize `job_schedule_type`"
   ]
  },
  {
   "cell_type": "code",
   "execution_count": 175,
   "id": "0d6c262a",
   "metadata": {},
   "outputs": [],
   "source": [
    "s = pd.Series(schedules.index, index = schedules.values)\n",
    "df2.job_schedule_type = df2.job_schedule_type.map(s)"
   ]
  },
  {
   "cell_type": "markdown",
   "id": "c97cbf1c",
   "metadata": {},
   "source": [
    "### Normalize `search_location`"
   ]
  },
  {
   "cell_type": "code",
   "execution_count": 176,
   "id": "5caa99b4",
   "metadata": {},
   "outputs": [],
   "source": [
    "s = pd.Series(countries.index, index = countries.values)\n",
    "df2.search_location = df2.search_location.map(s)"
   ]
  },
  {
   "cell_type": "markdown",
   "id": "c6e5ebff",
   "metadata": {},
   "source": [
    "### Normalize `job_company`"
   ]
  },
  {
   "cell_type": "code",
   "execution_count": 177,
   "id": "9abeda41",
   "metadata": {},
   "outputs": [],
   "source": [
    "s = pd.Series(companies.index, index = companies.values)\n",
    "df2.company_name = df2.company_name.map(s)"
   ]
  },
  {
   "cell_type": "markdown",
   "id": "cd3f828b",
   "metadata": {},
   "source": [
    "### Normalize `job_skills`"
   ]
  },
  {
   "cell_type": "code",
   "execution_count": 178,
   "id": "7ec336c6",
   "metadata": {},
   "outputs": [],
   "source": [
    "s = pd.Series(job_skills.index, index = job_skills.values)\n",
    "df2.job_skills = df2.job_skills.map(s)"
   ]
  },
  {
   "cell_type": "markdown",
   "id": "71409d5b",
   "metadata": {},
   "source": [
    "### Normalize `job_title_short`"
   ]
  },
  {
   "cell_type": "code",
   "execution_count": 179,
   "id": "14fb8879",
   "metadata": {},
   "outputs": [],
   "source": [
    "s = pd.Series(job_titles.index, index = job_titles.values)\n",
    "df2.job_title_short = df2.job_title_short.map(s)"
   ]
  },
  {
   "cell_type": "code",
   "execution_count": 180,
   "id": "1288a7e1",
   "metadata": {},
   "outputs": [
    {
     "data": {
      "text/html": [
       "<div>\n",
       "<style scoped>\n",
       "    .dataframe tbody tr th:only-of-type {\n",
       "        vertical-align: middle;\n",
       "    }\n",
       "\n",
       "    .dataframe tbody tr th {\n",
       "        vertical-align: top;\n",
       "    }\n",
       "\n",
       "    .dataframe thead th {\n",
       "        text-align: right;\n",
       "    }\n",
       "</style>\n",
       "<table border=\"1\" class=\"dataframe\">\n",
       "  <thead>\n",
       "    <tr style=\"text-align: right;\">\n",
       "      <th></th>\n",
       "      <th>job_title_short</th>\n",
       "      <th>job_title</th>\n",
       "      <th>job_location</th>\n",
       "      <th>job_via</th>\n",
       "      <th>job_schedule_type</th>\n",
       "      <th>job_work_from_home</th>\n",
       "      <th>search_location</th>\n",
       "      <th>job_posted_date</th>\n",
       "      <th>job_no_degree_mention</th>\n",
       "      <th>job_health_insurance</th>\n",
       "      <th>job_country</th>\n",
       "      <th>salary_rate</th>\n",
       "      <th>salary_year_avg</th>\n",
       "      <th>salary_hour_avg</th>\n",
       "      <th>company_name</th>\n",
       "      <th>job_skills</th>\n",
       "    </tr>\n",
       "  </thead>\n",
       "  <tbody>\n",
       "    <tr>\n",
       "      <th>20564</th>\n",
       "      <td>4</td>\n",
       "      <td>Data Scientist - Now Hiring</td>\n",
       "      <td>1888</td>\n",
       "      <td>240.0</td>\n",
       "      <td>1.0</td>\n",
       "      <td>False</td>\n",
       "      <td>106</td>\n",
       "      <td>2023-12-10 07:05:51</td>\n",
       "      <td>False</td>\n",
       "      <td>True</td>\n",
       "      <td>106</td>\n",
       "      <td>hour</td>\n",
       "      <td>NaN</td>\n",
       "      <td>43.709999</td>\n",
       "      <td>4160</td>\n",
       "      <td>15.0</td>\n",
       "    </tr>\n",
       "    <tr>\n",
       "      <th>20587</th>\n",
       "      <td>2</td>\n",
       "      <td>Data Analyst - Top Secret Required - Now Hiring</td>\n",
       "      <td>2256</td>\n",
       "      <td>240.0</td>\n",
       "      <td>3.0</td>\n",
       "      <td>False</td>\n",
       "      <td>106</td>\n",
       "      <td>2023-09-21 06:01:43</td>\n",
       "      <td>False</td>\n",
       "      <td>False</td>\n",
       "      <td>106</td>\n",
       "      <td>hour</td>\n",
       "      <td>NaN</td>\n",
       "      <td>18.795000</td>\n",
       "      <td>4644</td>\n",
       "      <td>149.0</td>\n",
       "    </tr>\n",
       "    <tr>\n",
       "      <th>1594</th>\n",
       "      <td>7</td>\n",
       "      <td>Senior Data Engineer &amp; Innovation - FULL-TIME ...</td>\n",
       "      <td>85</td>\n",
       "      <td>181.0</td>\n",
       "      <td>1.0</td>\n",
       "      <td>True</td>\n",
       "      <td>106</td>\n",
       "      <td>2023-01-19 19:49:44</td>\n",
       "      <td>False</td>\n",
       "      <td>False</td>\n",
       "      <td>106</td>\n",
       "      <td>year</td>\n",
       "      <td>95000.0</td>\n",
       "      <td>NaN</td>\n",
       "      <td>7286</td>\n",
       "      <td>14.0</td>\n",
       "    </tr>\n",
       "    <tr>\n",
       "      <th>17595</th>\n",
       "      <td>7</td>\n",
       "      <td>Senior Data Engineer</td>\n",
       "      <td>1767</td>\n",
       "      <td>14.0</td>\n",
       "      <td>1.0</td>\n",
       "      <td>False</td>\n",
       "      <td>36</td>\n",
       "      <td>2023-05-16 09:29:37</td>\n",
       "      <td>False</td>\n",
       "      <td>False</td>\n",
       "      <td>36</td>\n",
       "      <td>year</td>\n",
       "      <td>147500.0</td>\n",
       "      <td>NaN</td>\n",
       "      <td>8163</td>\n",
       "      <td>48.0</td>\n",
       "    </tr>\n",
       "  </tbody>\n",
       "</table>\n",
       "</div>"
      ],
      "text/plain": [
       "       job_title_short                                          job_title  \\\n",
       "20564                4                        Data Scientist - Now Hiring   \n",
       "20587                2    Data Analyst - Top Secret Required - Now Hiring   \n",
       "1594                 7  Senior Data Engineer & Innovation - FULL-TIME ...   \n",
       "17595                7                               Senior Data Engineer   \n",
       "\n",
       "       job_location  job_via  job_schedule_type  job_work_from_home  \\\n",
       "20564          1888    240.0                1.0               False   \n",
       "20587          2256    240.0                3.0               False   \n",
       "1594             85    181.0                1.0                True   \n",
       "17595          1767     14.0                1.0               False   \n",
       "\n",
       "       search_location     job_posted_date  job_no_degree_mention  \\\n",
       "20564              106 2023-12-10 07:05:51                  False   \n",
       "20587              106 2023-09-21 06:01:43                  False   \n",
       "1594               106 2023-01-19 19:49:44                  False   \n",
       "17595               36 2023-05-16 09:29:37                  False   \n",
       "\n",
       "       job_health_insurance  job_country salary_rate  salary_year_avg  \\\n",
       "20564                  True          106        hour              NaN   \n",
       "20587                 False          106        hour              NaN   \n",
       "1594                  False          106        year          95000.0   \n",
       "17595                 False           36        year         147500.0   \n",
       "\n",
       "       salary_hour_avg  company_name  job_skills  \n",
       "20564        43.709999          4160        15.0  \n",
       "20587        18.795000          4644       149.0  \n",
       "1594               NaN          7286        14.0  \n",
       "17595              NaN          8163        48.0  "
      ]
     },
     "execution_count": 180,
     "metadata": {},
     "output_type": "execute_result"
    }
   ],
   "source": [
    "df2.sample(4)"
   ]
  },
  {
   "cell_type": "code",
   "execution_count": 181,
   "id": "b9edbe75",
   "metadata": {},
   "outputs": [
    {
     "data": {
      "text/plain": [
       "job_title_short                   int64\n",
       "job_title                        object\n",
       "job_location                      int64\n",
       "job_via                         float64\n",
       "job_schedule_type               float64\n",
       "job_work_from_home                 bool\n",
       "search_location                   int64\n",
       "job_posted_date          datetime64[ns]\n",
       "job_no_degree_mention              bool\n",
       "job_health_insurance               bool\n",
       "job_country                       int64\n",
       "salary_rate                      object\n",
       "salary_year_avg                 float64\n",
       "salary_hour_avg                 float64\n",
       "company_name                      int64\n",
       "job_skills                      float64\n",
       "dtype: object"
      ]
     },
     "execution_count": 181,
     "metadata": {},
     "output_type": "execute_result"
    }
   ],
   "source": [
    "df2.dtypes"
   ]
  },
  {
   "cell_type": "code",
   "execution_count": 182,
   "id": "cd5d83fc",
   "metadata": {},
   "outputs": [],
   "source": [
    "df2 = df2.sort_values('job_posted_date').reset_index(drop = True)"
   ]
  },
  {
   "cell_type": "code",
   "execution_count": 183,
   "id": "d2a44abd",
   "metadata": {},
   "outputs": [],
   "source": [
    "df2.rename(columns = {\n",
    "    'job_title_short' : 'job_title_id',\n",
    "    'job_title' : 'job_title_full',\n",
    "    'job_location' : 'job_location_id',\n",
    "    'job_via' : 'job_via_id',\n",
    "    'job_schedule_type' : 'schedule_id',\n",
    "    'search_location' : 'search_location_id',\n",
    "    'job_location' : 'job_location_id',\n",
    "    'job_work_from_home' : 'work_from_home',\n",
    "    'job_no_degree_mention' : 'no_degree_mention',\n",
    "    'job_health_insurance' : 'health_insurance',\n",
    "    'job_country' : 'job_country_id',\n",
    "    'company_name' : 'company_id',\n",
    "    'job_skills' : 'skill_id'\n",
    "}, inplace = True)"
   ]
  },
  {
   "cell_type": "code",
   "execution_count": 184,
   "id": "2978f7b4",
   "metadata": {},
   "outputs": [],
   "source": [
    "df2.to_csv('./csv/job_postings.csv', index = False)"
   ]
  }
 ],
 "metadata": {
  "kernelspec": {
   "display_name": "venv",
   "language": "python",
   "name": "python3"
  },
  "language_info": {
   "codemirror_mode": {
    "name": "ipython",
    "version": 3
   },
   "file_extension": ".py",
   "mimetype": "text/x-python",
   "name": "python",
   "nbconvert_exporter": "python",
   "pygments_lexer": "ipython3",
   "version": "3.13.5"
  }
 },
 "nbformat": 4,
 "nbformat_minor": 5
}
